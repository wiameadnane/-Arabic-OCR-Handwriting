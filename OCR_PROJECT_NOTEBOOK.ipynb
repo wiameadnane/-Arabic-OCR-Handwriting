{
 "cells": [
  {
   "cell_type": "markdown",
   "id": "305149af-6057-4012-b049-bd9d82e482f3",
   "metadata": {},
   "source": [
    "# PROJECT : ARABIC OCR "
   ]
  },
  {
   "cell_type": "code",
   "execution_count": 1,
   "id": "3b037ff7-6e53-4841-b717-47ecd7489f2a",
   "metadata": {
    "id": "3b037ff7-6e53-4841-b717-47ecd7489f2a"
   },
   "outputs": [
    {
     "name": "stderr",
     "output_type": "stream",
     "text": [
      "2025-06-16 00:46:43.790283: I tensorflow/core/util/port.cc:153] oneDNN custom operations are on. You may see slightly different numerical results due to floating-point round-off errors from different computation orders. To turn them off, set the environment variable `TF_ENABLE_ONEDNN_OPTS=0`.\n",
      "2025-06-16 00:46:43.824892: E external/local_xla/xla/stream_executor/cuda/cuda_fft.cc:467] Unable to register cuFFT factory: Attempting to register factory for plugin cuFFT when one has already been registered\n",
      "WARNING: All log messages before absl::InitializeLog() is called are written to STDERR\n",
      "E0000 00:00:1750031203.849169    5992 cuda_dnn.cc:8579] Unable to register cuDNN factory: Attempting to register factory for plugin cuDNN when one has already been registered\n",
      "E0000 00:00:1750031203.856003    5992 cuda_blas.cc:1407] Unable to register cuBLAS factory: Attempting to register factory for plugin cuBLAS when one has already been registered\n",
      "W0000 00:00:1750031203.881178    5992 computation_placer.cc:177] computation placer already registered. Please check linkage and avoid linking the same target more than once.\n",
      "W0000 00:00:1750031203.881204    5992 computation_placer.cc:177] computation placer already registered. Please check linkage and avoid linking the same target more than once.\n",
      "W0000 00:00:1750031203.881205    5992 computation_placer.cc:177] computation placer already registered. Please check linkage and avoid linking the same target more than once.\n",
      "W0000 00:00:1750031203.881206    5992 computation_placer.cc:177] computation placer already registered. Please check linkage and avoid linking the same target more than once.\n",
      "2025-06-16 00:46:43.887016: I tensorflow/core/platform/cpu_feature_guard.cc:210] This TensorFlow binary is optimized to use available CPU instructions in performance-critical operations.\n",
      "To enable the following instructions: AVX2 AVX_VNNI FMA, in other operations, rebuild TensorFlow with the appropriate compiler flags.\n"
     ]
    }
   ],
   "source": [
    "import os\n",
    "import os\n",
    "os.environ[\"TF_GPU_ALLOCATOR\"] = \"cuda_malloc_async\"\n",
    "\n",
    "import tensorflow as tf\n",
    "os.environ[\"CUDA_DEVICE_ORDER\"] = \"PCI_BUS_ID\"\n",
    "import warnings\n",
    "warnings.filterwarnings('ignore')"
   ]
  },
  {
   "cell_type": "code",
   "execution_count": 2,
   "id": "1811c915-6de2-4b3e-872d-a8f5a93bd83b",
   "metadata": {
    "id": "1811c915-6de2-4b3e-872d-a8f5a93bd83b"
   },
   "outputs": [],
   "source": [
    "gpus = tf.config.list_physical_devices('GPU')\n",
    "if gpus:\n",
    "    for gpu in gpus:\n",
    "        tf.config.experimental.set_memory_growth(gpu, True)\n"
   ]
  },
  {
   "cell_type": "code",
   "execution_count": 3,
   "id": "70974c67-b959-484b-b15a-f4aab6612929",
   "metadata": {
    "id": "70974c67-b959-484b-b15a-f4aab6612929"
   },
   "outputs": [],
   "source": [
    "import cv2\n",
    "import os\n",
    "import re\n",
    "import numpy as np\n",
    "from PIL import Image\n",
    "from numpy.random import RandomState"
   ]
  },
  {
   "cell_type": "code",
   "execution_count": 4,
   "id": "afef2ea1-b7bd-4bdf-9b0b-12c06695665c",
   "metadata": {
    "id": "afef2ea1-b7bd-4bdf-9b0b-12c06695665c",
    "scrolled": true
   },
   "outputs": [],
   "source": [
    "from tensorflow.keras.models import Model\n",
    "from tensorflow.keras.layers import (\n",
    "    Input, Conv2D, BatchNormalization, ReLU, Dropout, MaxPooling2D,\n",
    "    DepthwiseConv2D, ZeroPadding2D, Reshape, Dense, Bidirectional,\n",
    "    LSTM, Lambda\n",
    ")\n",
    "from tensorflow.keras.optimizers import Adam\n",
    "from tensorflow.keras.callbacks import ModelCheckpoint\n",
    "from tensorflow.keras import backend as K\n",
    "import tensorflow as tf"
   ]
  },
  {
   "cell_type": "markdown",
   "id": "f34aef9a-9957-47a7-84b7-05110d5e18f0",
   "metadata": {},
   "source": [
    "### Data preparation"
   ]
  },
  {
   "cell_type": "code",
   "execution_count": 5,
   "id": "c3094d30-237d-4d47-a363-7d77b5da60ef",
   "metadata": {
    "id": "c3094d30-237d-4d47-a363-7d77b5da60ef"
   },
   "outputs": [],
   "source": [
    "#fonction qui prend en parametre le path du tru et renvoi les labels\n",
    "def extract_lbl_chars(tru_file_path):\n",
    "    try:\n",
    "        with open(tru_file_path, \"r\", encoding=\"utf-8\", errors=\"replace\") as f:\n",
    "            lines = f.read().splitlines()\n",
    "            if len(lines) < 7:\n",
    "                return None\n",
    "            label_line = lines[6]\n",
    "            match = re.search(r\"AW2:(.*?);\", label_line)\n",
    "            if match:\n",
    "                return match.group(1).split('|')[:-1]\n",
    "            else:\n",
    "                return None\n",
    "    except Exception as e:\n",
    "        print(f\"[ERREUR] Fichier .tru non lisible ou manquant : {tru_file_path}\")\n",
    "        return None"
   ]
  },
  {
   "cell_type": "code",
   "execution_count": 6,
   "id": "b827abc0-b903-48e7-b4ea-91efe481aa62",
   "metadata": {
    "id": "b827abc0-b903-48e7-b4ea-91efe481aa62"
   },
   "outputs": [],
   "source": [
    "#creer un dictionnaire ou les cles c'est les noms des images et les valeurs c'est la liste des labels , utilise extract_lbl_chars\n",
    "def walk_and_extract_lbl_gt(root_dir):   #prend en parametre par exemple set a    #useless\n",
    "    labels = {}\n",
    "    for subdir, _, files in os.walk(root_dir):\n",
    "        for file in files:\n",
    "            if file.endswith('.tru'):\n",
    "                tru_file_path = os.path.join(subdir, file)\n",
    "                chars = extract_lbl_chars(tru_file_path)\n",
    "                if chars is not None:\n",
    "                    labels[file.split('.')[0]] = chars\n",
    "    return labels"
   ]
  },
  {
   "cell_type": "code",
   "execution_count": 7,
   "id": "0c8c59fb-dbca-40af-8d22-287c59b9195e",
   "metadata": {
    "id": "0c8c59fb-dbca-40af-8d22-287c59b9195e"
   },
   "outputs": [],
   "source": [
    "#fonction qui supprime les mots avec chadda et avec des erreurs, utilise extract_lbl_chars\n",
    "def evaluate_data(root_dir_data, root_dir_tru):\n",
    "    for subdir, _, files in os.walk(root_dir_data):\n",
    "        for file in files:\n",
    "            basename = file.split('.')[0]\n",
    "            word_file_path = f\"{root_dir_data}/{basename}.tif\"\n",
    "            tru_file_path = f\"{root_dir_tru}/{basename}.tru\"\n",
    "            chars = extract_lbl_chars(tru_file_path)\n",
    "            for c in chars:\n",
    "                if c[-1] in ('1', '2') or c.find(\"llL\")!=-1:\n",
    "                    os.remove(word_file_path)\n",
    "                    os.remove(tru_file_path)\n",
    "                    break"
   ]
  },
  {
   "cell_type": "code",
   "execution_count": 8,
   "id": "c599e4d9-4b96-4434-b57b-1ed6f6f0041e",
   "metadata": {
    "id": "c599e4d9-4b96-4434-b57b-1ed6f6f0041e"
   },
   "outputs": [],
   "source": [
    "#fonction qui prend chemin et retourne le nom seul\n",
    "def get_basename(name):\n",
    "    return os.path.split(name)[1].split('.')[0] #split divise le chemin en deux partie : le repertoire et le nom de l'image"
   ]
  },
  {
   "cell_type": "code",
   "execution_count": 9,
   "id": "6a10d10e-7dbd-4e5e-9e42-9006b9d8c74c",
   "metadata": {
    "id": "6a10d10e-7dbd-4e5e-9e42-9006b9d8c74c"
   },
   "outputs": [],
   "source": [
    "#fonction qui prend chemin est extrait label\n",
    "def get_word(path_img):\n",
    "    word_name = get_basename(path_img)\n",
    "    path_parts = path_img.split('/')\n",
    "    tru_path = '/'.join(path_parts[:-2]) + '/tru'\n",
    "    tru_file_path = tru_path+\"/\"+word_name+\".tru\"\n",
    "\n",
    "    return extract_lbl_chars(tru_file_path)"
   ]
  },
  {
   "cell_type": "code",
   "execution_count": 10,
   "id": "4aba2835-43e4-499a-8d1d-62573011ba5a",
   "metadata": {
    "id": "4aba2835-43e4-499a-8d1d-62573011ba5a"
   },
   "outputs": [],
   "source": [
    "#fonction qui nous donne le lexique du dataset\n",
    "def get_lexicon(names):\n",
    "    chars = []\n",
    "    for name in names:\n",
    "        chars += get_word(name)\n",
    "    lexicon = list(set(chars))\n",
    "    lexicon.append(\"-\")\n",
    "    return lexicon"
   ]
  },
  {
   "cell_type": "code",
   "execution_count": 11,
   "id": "22553233-84f1-48a8-b672-9c775755cc23",
   "metadata": {
    "id": "22553233-84f1-48a8-b672-9c775755cc23"
   },
   "outputs": [],
   "source": [
    "#fonction qui calcule length of word based on image link\n",
    "def get_lengths(names):\n",
    "    result = {}\n",
    "    for name in names:\n",
    "        word = get_word(name)\n",
    "        if word is not None and len(word) > 0:\n",
    "            result[get_basename(name)] = len(word)\n",
    "    return result"
   ]
  },
  {
   "cell_type": "code",
   "execution_count": 12,
   "id": "03716e1f-5e22-4a8b-af42-71ef5d608b38",
   "metadata": {
    "id": "03716e1f-5e22-4a8b-af42-71ef5d608b38"
   },
   "outputs": [],
   "source": [
    "#fonction qui prend le nom de l'image et la pretraite, utilisé dans generator\n",
    "def get_image(name, img_size=(100, 300)):\n",
    "    img = cv2.imread(name, 0)\n",
    "    img = cv2.resize(img, (img_size[1], img_size[0]), Image.LANCZOS)\n",
    "    img = cv2.threshold(img, 255//2, 255, cv2.THRESH_BINARY)[1]\n",
    "    img = cv2.bitwise_not(img)    #inverser limage pour avoir liformation dans le blanc (le texte)\n",
    "    word = get_word(name)\n",
    "    img = img.astype(np.float32) / 255.0\n",
    "    return img, word"
   ]
  },
  {
   "cell_type": "code",
   "execution_count": 14,
   "id": "34d41d35-bcff-45f6-8792-2d65974a4ff2",
   "metadata": {
    "id": "34d41d35-bcff-45f6-8792-2d65974a4ff2"
   },
   "outputs": [],
   "source": [
    "dataset_sets = ['/mnt/c/Users/abder/Documents/S8/DeepLearning/data_augmented/' + set_name for set_name in ('set_a', 'set_b', 'set_c')]\n",
    "data_paths = [set_path + '/tif' for set_path in dataset_sets]\n",
    "tru_paths = [set_path + '/tru' for set_path in dataset_sets]\n",
    "\n",
    "# for data_path, tru_path in zip(data_paths, tru_paths):\n",
    "#     evaluate_data(data_path, tru_path)"
   ]
  },
  {
   "cell_type": "code",
   "execution_count": 15,
   "id": "cc014127-ea3d-4527-a0ab-1370a675dd91",
   "metadata": {
    "colab": {
     "base_uri": "https://localhost:8080/"
    },
    "id": "cc014127-ea3d-4527-a0ab-1370a675dd91",
    "outputId": "bac16b5f-4ac0-42da-c2b6-9c0ad1897e02"
   },
   "outputs": [
    {
     "name": "stdout",
     "output_type": "stream",
     "text": [
      "25887\n"
     ]
    }
   ],
   "source": [
    "names = []\n",
    "for data_path in data_paths:\n",
    "    names += [dp+\"/\"+f for dp, _, filenames in os.walk(data_path) for f in filenames if re.search('.tif', f)]\n",
    "names.sort()\n",
    "print(len(names))"
   ]
  },
  {
   "cell_type": "code",
   "execution_count": 16,
   "id": "af42a8c5-5bf0-4712-a08e-a2315d82f781",
   "metadata": {
    "colab": {
     "base_uri": "https://localhost:8080/"
    },
    "id": "af42a8c5-5bf0-4712-a08e-a2315d82f781",
    "outputId": "5eed44b9-0cf5-44af-dac8-2b5622395729"
   },
   "outputs": [],
   "source": [
    "# lexicon = get_lexicon(names)\n",
    "# print(len(lexicon))"
   ]
  },
  {
   "cell_type": "code",
   "execution_count": 17,
   "id": "f7219b26-28b2-483d-8034-1e162b4dfaa4",
   "metadata": {
    "id": "f7219b26-28b2-483d-8034-1e162b4dfaa4",
    "jupyter": {
     "source_hidden": true
    }
   },
   "outputs": [],
   "source": [
    "# chars_to_codes = {char:code for code, char in enumerate(lexicon)}\n",
    "# codes_to_chars = {code:char for char, code in chars_to_codes.items()}\n",
    "# output_path = '/content/drive/MyDrive/char_code_files/'\n",
    "\n",
    "# import json\n",
    "# import os\n",
    "# os.makedirs(output_path, exist_ok=True)\n",
    "\n",
    "# # Save both JSON files\n",
    "# with open(output_path + 'chars_to_codes.json', 'w') as f:\n",
    "#     json.dump(chars_to_codes, f)\n",
    "\n",
    "# codes_to_chars_str_keys = {str(k): v for k, v in codes_to_chars.items()}\n",
    "# with open(output_path + 'codes_to_chars.json', 'w') as f:\n",
    "#     json.dump(codes_to_chars_str_keys, f)"
   ]
  },
  {
   "cell_type": "code",
   "execution_count": 18,
   "id": "52iqZ4B4jPSP",
   "metadata": {
    "id": "52iqZ4B4jPSP"
   },
   "outputs": [],
   "source": [
    "import json\n",
    "\n",
    "# Load chars_to_codes\n",
    "with open('/mnt/c/Users/abder/Documents/S8/DeepLearning/chars_to_codes.json', 'r') as f:\n",
    "    chars_to_codes = json.load(f)\n",
    "\n",
    "# Load codes_to_chars (JSON stores keys as strings, convert back to int)\n",
    "with open('/mnt/c/Users/abder/Documents/S8/DeepLearning/codes_to_chars.json', 'r') as f:\n",
    "    codes_to_chars = json.load(f)\n",
    "    codes_to_chars = {int(k): v for k, v in codes_to_chars.items()}"
   ]
  },
  {
   "cell_type": "code",
   "execution_count": 38,
   "id": "580b2e91-def7-4d69-bf07-0098b0ca329e",
   "metadata": {
    "colab": {
     "base_uri": "https://localhost:8080/"
    },
    "id": "580b2e91-def7-4d69-bf07-0098b0ca329e",
    "outputId": "d8f38ee8-bfce-47c0-c26e-aacd30ef8852"
   },
   "outputs": [
    {
     "name": "stdout",
     "output_type": "stream",
     "text": [
      "{'raA': 0, 'faA': 1, 'naA': 2, 'dhA': 3, 'daA': 4, 'toB': 5, 'waE': 6, '7A': 7, 'kaE': 8, 'thA': 9, 'maMlaB': 10, 'toM': 11, 'teE': 12, '9A': 13, 'aaA': 14, 'keE': 15, 'yaE': 16, 'taM': 17, 'deB': 18, 'waA': 19, 'shA': 20, 'baA': 21, 'baM': 22, 'aaElaB': 23, 'thM': 24, 'faB': 25, 'taB': 26, 'kaB': 27, 'saB': 28, 'thB': 29, 'kaM': 30, '0A': 31, 'haE': 32, 'naB': 33, 'eeA': 34, 'teA': 35, 'deE': 36, 'saE': 37, 'baE': 38, 'haB': 39, 'khMlaB': 40, 'jaB': 41, 'yaB': 42, 'shE': 43, 'jaMlaB': 44, 'toE': 45, 'jaM': 46, 'yaM': 47, 'laA': 48, 'shB': 49, 'keM': 50, 'dhE': 51, 'haA': 52, 'ayB': 53, 'shM': 54, 'zaB': 55, '2A': 56, 'laM': 57, 'faM': 58, 'maB': 59, 'khM': 60, 'ayA': 61, 'maE': 62, 'naE': 63, 'raE': 64, 'heE': 65, 'jaE': 66, 'keB': 67, 'aaElaM': 68, 'yaA': 69, 'haMmaMlaB': 70, 'baB': 71, 'seE': 72, 'maA': 73, 'naM': 74, 'amA': 75, 'ahElaB': 76, '8A': 77, 'khA': 78, 'taE': 79, 'laE': 80, 'heM': 81, '1A': 82, 'kaA': 83, 'haMlaB': 84, 'zaE': 85, 'seA': 86, 'maM': 87, 'laB': 88, 'seB': 89, 'ayE': 90, 'deA': 91, 'khE': 92, 'taA': 93, '6A': 94, 'haM': 95, 'saM': 96, 'ahA': 97, 'seM': 98, 'ghB': 99, 'eeE': 100, 'deM': 101, 'jaA': 102, 'daE': 103, 'aeElaB': 104, 'zaA': 105, 'zaM': 106, 'aaE': 107, 'alM': 108, 'heB': 109, 'faE': 110, 'khB': 111, 'heA': 112, 'aeA': 113, 'ayM': 114, 'saA': 115, 'toA': 116, 'ghM': 117, 'hhA': 118, '-': 119}\n"
     ]
    }
   ],
   "source": [
    "print(chars_to_codes)"
   ]
  },
  {
   "cell_type": "code",
   "execution_count": 39,
   "id": "abbe2d34-ecec-4920-9a49-f3524bb678d3",
   "metadata": {},
   "outputs": [
    {
     "name": "stdout",
     "output_type": "stream",
     "text": [
      "{0: 'raA', 1: 'faA', 2: 'naA', 3: 'dhA', 4: 'daA', 5: 'toB', 6: 'waE', 7: '7A', 8: 'kaE', 9: 'thA', 10: 'maMlaB', 11: 'toM', 12: 'teE', 13: '9A', 14: 'aaA', 15: 'keE', 16: 'yaE', 17: 'taM', 18: 'deB', 19: 'waA', 20: 'shA', 21: 'baA', 22: 'baM', 23: 'aaElaB', 24: 'thM', 25: 'faB', 26: 'taB', 27: 'kaB', 28: 'saB', 29: 'thB', 30: 'kaM', 31: '0A', 32: 'haE', 33: 'naB', 34: 'eeA', 35: 'teA', 36: 'deE', 37: 'saE', 38: 'baE', 39: 'haB', 40: 'khMlaB', 41: 'jaB', 42: 'yaB', 43: 'shE', 44: 'jaMlaB', 45: 'toE', 46: 'jaM', 47: 'yaM', 48: 'laA', 49: 'shB', 50: 'keM', 51: 'dhE', 52: 'haA', 53: 'ayB', 54: 'shM', 55: 'zaB', 56: '2A', 57: 'laM', 58: 'faM', 59: 'maB', 60: 'khM', 61: 'ayA', 62: 'maE', 63: 'naE', 64: 'raE', 65: 'heE', 66: 'jaE', 67: 'keB', 68: 'aaElaM', 69: 'yaA', 70: 'haMmaMlaB', 71: 'baB', 72: 'seE', 73: 'maA', 74: 'naM', 75: 'amA', 76: 'ahElaB', 77: '8A', 78: 'khA', 79: 'taE', 80: 'laE', 81: 'heM', 82: '1A', 83: 'kaA', 84: 'haMlaB', 85: 'zaE', 86: 'seA', 87: 'maM', 88: 'laB', 89: 'seB', 90: 'ayE', 91: 'deA', 92: 'khE', 93: 'taA', 94: '6A', 95: 'haM', 96: 'saM', 97: 'ahA', 98: 'seM', 99: 'ghB', 100: 'eeE', 101: 'deM', 102: 'jaA', 103: 'daE', 104: 'aeElaB', 105: 'zaA', 106: 'zaM', 107: 'aaE', 108: 'alM', 109: 'heB', 110: 'faE', 111: 'khB', 112: 'heA', 113: 'aeA', 114: 'ayM', 115: 'saA', 116: 'toA', 117: 'ghM', 118: 'hhA', 119: '-'}\n"
     ]
    }
   ],
   "source": [
    "print(codes_to_chars )"
   ]
  },
  {
   "cell_type": "code",
   "execution_count": 21,
   "id": "04d3f872-335b-4df2-9bbe-bdc3c55bdde0",
   "metadata": {
    "colab": {
     "base_uri": "https://localhost:8080/"
    },
    "id": "04d3f872-335b-4df2-9bbe-bdc3c55bdde0",
    "outputId": "53648e21-9424-4da8-fc4d-02bb40d0d9c0"
   },
   "outputs": [],
   "source": [
    "# #get max length\n",
    "# lengths = get_lengths(names)\n",
    "# max_len = max(lengths.values())\n",
    "# print(max_len)"
   ]
  },
  {
   "cell_type": "markdown",
   "id": "9306345e-9222-420b-a478-d787d63b36a9",
   "metadata": {},
   "source": [
    "### Devide train and val and remove data augmented from val"
   ]
  },
  {
   "cell_type": "code",
   "execution_count": 26,
   "id": "ede7d8ea-7b49-4b01-ad53-7bc9e545e50b",
   "metadata": {
    "colab": {
     "base_uri": "https://localhost:8080/"
    },
    "id": "ede7d8ea-7b49-4b01-ad53-7bc9e545e50b",
    "outputId": "455c8bd4-a196-4aeb-97bf-f4b959992ace"
   },
   "outputs": [],
   "source": [
    "# import os\n",
    "# import random\n",
    "# from collections import defaultdict\n",
    "\n",
    "# random.seed(42)\n",
    "\n",
    "# # Group images by base name (e.g., img1, img2, etc.)\n",
    "# grouped = defaultdict(list)\n",
    "\n",
    "# for name in names:\n",
    "#     # Extract the base name (before _aug or extension)\n",
    "#     base = os.path.basename(name).split('.')[0].split('_aug')[0]\n",
    "#     grouped[base].append(name)\n",
    "\n",
    "# # Convert the grouped values into a list of groups\n",
    "# groups = list(grouped.values())\n",
    "# random.shuffle(groups)\n",
    "\n",
    "# # Split groups into train and val\n",
    "# split_idx = int(len(groups) * 0.9)\n",
    "# train_groups = groups[:split_idx]\n",
    "# val_groups = groups[split_idx:]\n",
    "\n",
    "# # Flatten groups into lists of file paths\n",
    "# train = [item for group in train_groups for item in group]\n",
    "# val = [item for group in val_groups for item in group]\n",
    "\n",
    "# print(f'[INFO] {len(train)} train and {len(val)} validation images loaded')\n",
    "\n",
    "# # Save to disk\n",
    "# with open('/content/drive/MyDrive/train_names2.json', 'w') as f:\n",
    "#     json.dump(train, f)\n",
    "\n",
    "# with open('/content/drive/MyDrive/val_names2.json', 'w') as f:\n",
    "#     json.dump(val, f)"
   ]
  },
  {
   "cell_type": "code",
   "execution_count": 23,
   "id": "Jsit4o9ncOxF",
   "metadata": {
    "id": "Jsit4o9ncOxF"
   },
   "outputs": [],
   "source": [
    "# Load train_data\n",
    "with open('/mnt/c/Users/abder/Downloads/train_names2.json', 'r') as f:\n",
    "    train = json.load(f)\n",
    "\n",
    "# Load val_data\n",
    "with open('/mnt/c/Users/abder/Downloads/val_names2.json', 'r') as f:\n",
    "    val = json.load(f)"
   ]
  },
  {
   "cell_type": "code",
   "execution_count": 24,
   "id": "-Ls3NgnTVEVP",
   "metadata": {
    "id": "-Ls3NgnTVEVP"
   },
   "outputs": [],
   "source": [
    "# Remove only augmented images from the validation set\n",
    "val = [name for name in val if '_aug' not in os.path.basename(name)]"
   ]
  },
  {
   "cell_type": "code",
   "execution_count": 25,
   "id": "cWwCXYHKcgeM",
   "metadata": {
    "colab": {
     "base_uri": "https://localhost:8080/"
    },
    "id": "cWwCXYHKcgeM",
    "outputId": "e9ecebc5-5fec-44d0-da45-c897cd2a2cf5"
   },
   "outputs": [
    {
     "name": "stdout",
     "output_type": "stream",
     "text": [
      "[INFO] 23301 train and 1044 validation images loaded\n"
     ]
    }
   ],
   "source": [
    "print(f'[INFO] {len(train)} train and {len(val)} validation images loaded')"
   ]
  },
  {
   "cell_type": "code",
   "execution_count": 26,
   "id": "4c8b7851-8e81-4a62-9aff-8f383f4d67ed",
   "metadata": {},
   "outputs": [],
   "source": [
    "def convert_colab_to_wsl_paths(colab_paths):\n",
    "    wsl_base = \"/mnt/c/Users/abder/Documents/S8/DeepLearning/data_augmented/\"\n",
    "    wsl_paths = []\n",
    "\n",
    "    for path in colab_paths:\n",
    "        path = path.strip()\n",
    "        # Check for set_a, set_b, or set_c in path\n",
    "        if \"/set_a/\" in path:\n",
    "            idx = path.index(\"/set_a/\")\n",
    "            relative_path = path[idx+1:]  # remove leading slash before set_a\n",
    "            wsl_path = wsl_base + relative_path\n",
    "            wsl_paths.append(wsl_path)\n",
    "        elif \"/set_b/\" in path:\n",
    "            idx = path.index(\"/set_b/\")\n",
    "            relative_path = path[idx+1:]\n",
    "            wsl_path = wsl_base + relative_path\n",
    "            wsl_paths.append(wsl_path)\n",
    "        elif \"/set_c/\" in path:\n",
    "            idx = path.index(\"/set_c/\")\n",
    "            relative_path = path[idx+1:]\n",
    "            wsl_path = wsl_base + relative_path\n",
    "            wsl_paths.append(wsl_path)\n",
    "        else:\n",
    "            print(f\"[AVERTISSEMENT] Chemin ignoré : {path}\")\n",
    "\n",
    "    return wsl_paths"
   ]
  },
  {
   "cell_type": "code",
   "execution_count": 27,
   "id": "77e66ebd-b6d2-4e6e-9d6c-a9d7036043a9",
   "metadata": {},
   "outputs": [],
   "source": [
    "val = convert_colab_to_wsl_paths(val)\n",
    "train = convert_colab_to_wsl_paths(train)"
   ]
  },
  {
   "cell_type": "markdown",
   "id": "a4e6671d-32bb-4c2f-a4f1-84f451330e60",
   "metadata": {},
   "source": [
    "### Model architecture "
   ]
  },
  {
   "cell_type": "code",
   "execution_count": 28,
   "id": "ca89943f-6e19-40d9-b5cb-05fc9d7d6e7c",
   "metadata": {
    "id": "ca89943f-6e19-40d9-b5cb-05fc9d7d6e7c"
   },
   "outputs": [],
   "source": [
    "from tensorflow.keras.applications import ResNet50\n",
    "from tensorflow.keras.layers import Concatenate\n",
    "from tensorflow.keras.models import Model\n",
    "from tensorflow.keras.layers import (Input, Conv2D, BatchNormalization, LeakyReLU ,ReLU, DepthwiseConv2D, MaxPooling2D,\n",
    "                                     Dropout, ZeroPadding2D, Reshape, Dense, Lambda, Bidirectional, LSTM,\n",
    "                                     Attention, Add)\n",
    "from tensorflow.keras import backend as K\n",
    "from tensorflow.keras.regularizers import l2\n",
    "\n",
    "def ctc_loss(args):\n",
    "    y_pred, labels, input_length, label_length = args\n",
    "    y_pred = y_pred[:, 2:, :]  # remove noisy initial steps\n",
    "    loss = K.ctc_batch_cost(labels, y_pred, input_length, label_length)\n",
    "    return loss\n",
    "\n",
    "\n",
    "def build_model(input_shape, num_classes, time_dense_size=128):\n",
    "    inputs = Input(name='the_input', shape=input_shape, dtype='float32')\n",
    "\n",
    "    # Convert grayscale (1 channel) to 3 channels by replicating\n",
    "    x = Concatenate(axis=-1)([inputs, inputs, inputs])  # (H, W, 3)\n",
    "\n",
    "    # Load ResNet50 without top layers\n",
    "    base_model = ResNet50(include_top=False, weights='imagenet', input_tensor=x)\n",
    "    x = base_model.output  # Feature map output: (None, H', W', C)\n",
    "\n",
    "    # Reshape to time steps for RNN\n",
    "    shape = x.shape  # (None, H', W', C)\n",
    "    x = Reshape((shape[1] * shape[2], shape[3]), name='reshape')(x)  # (time, features)\n",
    "\n",
    "    # Dense + Dropout\n",
    "    x = Dense(time_dense_size, activation='relu', name='dense1')(x)\n",
    "    x = Dropout(0.4)(x)\n",
    "\n",
    "    # BiLSTM\n",
    "    x = Bidirectional(LSTM(512, return_sequences=True), name='biLSTM_1')(x)\n",
    "    x = Bidirectional(LSTM(256, return_sequences=True), name='biLSTM_2')(x)\n",
    "\n",
    "    # Attention\n",
    "    attention_out = Attention()([x, x])\n",
    "    x = Concatenate(name='concat_attention')([x, attention_out])\n",
    "\n",
    "    # Output layer\n",
    "    y_pred = Dense(num_classes, activation='softmax', name='softmax')(x)\n",
    "\n",
    "    # CTC Loss setup\n",
    "    labels = Input(name='the_labels', shape=(17,), dtype='int32')\n",
    "    input_length = Input(name='input_length', shape=(1,), dtype='int32')\n",
    "    label_length = Input(name='label_length', shape=(1,), dtype='int32')\n",
    "\n",
    "    loss_out = Lambda(ctc_loss, output_shape=(1,), name='ctc')([y_pred, labels, input_length, label_length])\n",
    "\n",
    "    model = Model(inputs=[inputs, labels, input_length, label_length], outputs={'ctc': loss_out})\n",
    "    prediction_model = Model(inputs=inputs, outputs=y_pred)\n",
    "\n",
    "    return model"
   ]
  },
  {
   "cell_type": "markdown",
   "id": "2a476dbf-aa3a-4cf2-81a6-50576b2c7d0e",
   "metadata": {},
   "source": [
    "### Function that prepares a single image-text pair "
   ]
  },
  {
   "cell_type": "code",
   "execution_count": 30,
   "id": "59629c59-68d1-41a3-84c5-dac47aa222ed",
   "metadata": {},
   "outputs": [],
   "source": [
    "def preprocess_example(name, img_size, max_len, classes, downsample_factor):\n",
    "    img, word = get_image(name, img_size)\n",
    "    \n",
    "    if len(word) == 0:\n",
    "        return None\n",
    "\n",
    "    encoded = [classes.get(c, classes['-']) for c in word]\n",
    "    label_len = len(encoded)\n",
    "    \n",
    "    if label_len == 0:\n",
    "        return None\n",
    "\n",
    "    padded_label = np.full((max_len,), classes['-'], dtype=np.int32)\n",
    "    padded_label[:label_len] = encoded\n",
    "\n",
    "    img = img.astype(np.float32)\n",
    "    img = img[:, :, np.newaxis]\n",
    "\n",
    "    input_len = np.int32((img_size[1] + 4) // downsample_factor - 2)\n",
    "    label_len = np.int32(label_len)\n",
    "\n",
    "    return img, padded_label, input_len, label_len"
   ]
  },
  {
   "cell_type": "markdown",
   "id": "489af72d-5931-407f-89b6-521f2b2c13b1",
   "metadata": {},
   "source": [
    "### Creates a TensorFlow tf.data.Dataset pipeline for training or validating "
   ]
  },
  {
   "cell_type": "code",
   "execution_count": 31,
   "id": "4bfee061-c53c-4c73-868b-eeb833489290",
   "metadata": {},
   "outputs": [],
   "source": [
    "import tensorflow as tf\n",
    "\n",
    "def build_dataset(name_list, img_size, max_len, classes, batch_size, downsample_factor=8, shuffle=True):\n",
    "    # Wrap Python function\n",
    "    def wrapper(name):\n",
    "        result = tf.numpy_function(\n",
    "            func=lambda n: preprocess_example(\n",
    "                n.decode(\"utf-8\"), img_size, max_len, classes, downsample_factor),\n",
    "            inp=[name],\n",
    "            Tout=[tf.float32, tf.int32, tf.int32, tf.int32]\n",
    "        )\n",
    "        return {\n",
    "            \"the_input\": result[0],\n",
    "            \"the_labels\": result[1],\n",
    "            \"input_length\": tf.reshape(result[2], (1,)),\n",
    "            \"label_length\": tf.reshape(result[3], (1,))\n",
    "        }, {\n",
    "            \"ctc\": tf.zeros([1], dtype=tf.float32)\n",
    "        }\n",
    "\n",
    "    # Create Dataset\n",
    "    dataset = tf.data.Dataset.from_tensor_slices(name_list)\n",
    "\n",
    "    if shuffle:\n",
    "        dataset = dataset.shuffle(buffer_size=len(name_list))\n",
    "\n",
    "    dataset = dataset.map(wrapper, num_parallel_calls=tf.data.AUTOTUNE)\n",
    "    dataset = dataset.padded_batch(batch_size, padded_shapes=({\n",
    "        \"the_input\": (img_size[0], img_size[1], 1),\n",
    "        \"the_labels\": (max_len,),\n",
    "        \"input_length\": (1,),\n",
    "        \"label_length\": (1,)\n",
    "    }, {\n",
    "        \"ctc\": (batch_size,)\n",
    "    }), drop_remainder=True)\n",
    "    dataset = dataset.prefetch(tf.data.AUTOTUNE)\n",
    "\n",
    "    return dataset"
   ]
  },
  {
   "cell_type": "code",
   "execution_count": 29,
   "id": "162096f2-0e98-4ee1-a510-711ca23a78f7",
   "metadata": {},
   "outputs": [],
   "source": [
    "import gc\n",
    "\n",
    "class EpochCleanupCallback(tf.keras.callbacks.Callback):\n",
    "    def on_epoch_end(self, epoch, logs=None):\n",
    "        gc.collect()"
   ]
  },
  {
   "cell_type": "code",
   "execution_count": 32,
   "id": "840d1196-c5e3-4da0-a639-71f120a815b9",
   "metadata": {},
   "outputs": [
    {
     "name": "stderr",
     "output_type": "stream",
     "text": [
      "I0000 00:00:1750031236.415765    5992 gpu_process_state.cc:208] Using CUDA malloc Async allocator for GPU: 0\n",
      "I0000 00:00:1750031236.416052    5992 gpu_device.cc:2019] Created device /job:localhost/replica:0/task:0/device:GPU:0 with 5520 MB memory:  -> device: 0, name: NVIDIA GeForce RTX 4070 Laptop GPU, pci bus id: 0000:01:00.0, compute capability: 8.9\n"
     ]
    }
   ],
   "source": [
    "from tensorflow.keras.callbacks import ReduceLROnPlateau, EarlyStopping, ModelCheckpoint\n",
    "\n",
    "input_shape = (100, 300, 1)\n",
    "num_classes = 120\n",
    "\n",
    "charset = [''] * len(chars_to_codes)\n",
    "for k, v in chars_to_codes.items():\n",
    "    charset[v] = k\n",
    "\n",
    "train_ds = build_dataset(train, img_size=(100, 300), max_len=17, classes=chars_to_codes, batch_size=64)\n",
    "val_ds = build_dataset(val, img_size=(100, 300), max_len=17, classes=chars_to_codes, batch_size=64, shuffle=False)\n",
    "\n",
    "tf.keras.backend.clear_session()\n",
    "\n",
    "## Build training model (with CTC loss inputs)\n",
    "model = build_model(input_shape, num_classes)\n",
    "\n",
    "# Create prediction model that takes only the images as input and outputs softmax predictions\n",
    "prediction_model = Model(inputs=model.input[0], outputs=model.get_layer('softmax').output)\n",
    "\n",
    "# Compile your training model\n",
    "optimizer = Adam(learning_rate=0.001, beta_1=0.9, beta_2=0.999, clipnorm=5)\n",
    "model.compile(\n",
    "    loss={'ctc': lambda y_true, y_pred: y_pred},\n",
    "    optimizer=optimizer\n",
    ")\n",
    "\n",
    "# Now pass prediction_model to your callback\n",
    "callbacks_list = [\n",
    "    ModelCheckpoint(\n",
    "        filepath='/mnt/c/Users/abder/Downloads/models_input_updated/checkpoint_model_OCR.keras',\n",
    "        verbose=1,\n",
    "        save_best_only=True\n",
    "    ),\n",
    "    ReduceLROnPlateau(\n",
    "        monitor='val_loss',\n",
    "        factor=0.5,\n",
    "        patience=3,\n",
    "        min_lr=1e-6,\n",
    "        verbose=1\n",
    "    ),\n",
    "    EarlyStopping(\n",
    "        monitor='val_loss',\n",
    "        patience=6,\n",
    "        restore_best_weights=True\n",
    "    ),\n",
    "    EpochCleanupCallback()\n",
    "]"
   ]
  },
  {
   "cell_type": "markdown",
   "id": "148a68a9-3c91-41bc-851b-351df4386b9c",
   "metadata": {},
   "source": [
    "### Training 1"
   ]
  },
  {
   "cell_type": "code",
   "execution_count": 45,
   "id": "9a31a583-1534-4054-8237-6dd90e974908",
   "metadata": {
    "scrolled": true
   },
   "outputs": [
    {
     "name": "stdout",
     "output_type": "stream",
     "text": [
      "Epoch 1/50\n",
      "\u001b[1m364/364\u001b[0m \u001b[32m━━━━━━━━━━━━━━━━━━━━\u001b[0m\u001b[37m\u001b[0m \u001b[1m0s\u001b[0m 547ms/step - loss: 28.0710  \n",
      "Epoch 1: val_loss improved from inf to 63.26216, saving model to /mnt/c/Users/abder/Downloads/models_input_updated/checkpoint_model_OCR.keras\n",
      "\u001b[1m364/364\u001b[0m \u001b[32m━━━━━━━━━━━━━━━━━━━━\u001b[0m\u001b[37m\u001b[0m \u001b[1m230s\u001b[0m 573ms/step - loss: 28.0468 - val_loss: 63.2622 - learning_rate: 0.0010\n",
      "Epoch 2/50\n",
      "\u001b[1m364/364\u001b[0m \u001b[32m━━━━━━━━━━━━━━━━━━━━\u001b[0m\u001b[37m\u001b[0m \u001b[1m0s\u001b[0m 562ms/step - loss: 7.1536  \n",
      "Epoch 2: val_loss improved from 63.26216 to 48.07472, saving model to /mnt/c/Users/abder/Downloads/models_input_updated/checkpoint_model_OCR.keras\n",
      "\u001b[1m364/364\u001b[0m \u001b[32m━━━━━━━━━━━━━━━━━━━━\u001b[0m\u001b[37m\u001b[0m \u001b[1m213s\u001b[0m 584ms/step - loss: 7.1504 - val_loss: 48.0747 - learning_rate: 0.0010\n",
      "Epoch 3/50\n",
      "\u001b[1m364/364\u001b[0m \u001b[32m━━━━━━━━━━━━━━━━━━━━\u001b[0m\u001b[37m\u001b[0m \u001b[1m0s\u001b[0m 1s/step - loss: 3.1522     \n",
      "Epoch 3: val_loss improved from 48.07472 to 3.57116, saving model to /mnt/c/Users/abder/Downloads/models_input_updated/checkpoint_model_OCR.keras\n",
      "\u001b[1m364/364\u001b[0m \u001b[32m━━━━━━━━━━━━━━━━━━━━\u001b[0m\u001b[37m\u001b[0m \u001b[1m447s\u001b[0m 1s/step - loss: 3.1513 - val_loss: 3.5712 - learning_rate: 0.0010\n",
      "Epoch 4/50\n",
      "\u001b[1m364/364\u001b[0m \u001b[32m━━━━━━━━━━━━━━━━━━━━\u001b[0m\u001b[37m\u001b[0m \u001b[1m0s\u001b[0m 5s/step - loss: 1.7752   \n",
      "Epoch 4: val_loss improved from 3.57116 to 2.43369, saving model to /mnt/c/Users/abder/Downloads/models_input_updated/checkpoint_model_OCR.keras\n",
      "\u001b[1m364/364\u001b[0m \u001b[32m━━━━━━━━━━━━━━━━━━━━\u001b[0m\u001b[37m\u001b[0m \u001b[1m1699s\u001b[0m 5s/step - loss: 1.7749 - val_loss: 2.4337 - learning_rate: 0.0010\n",
      "Epoch 5/50\n",
      "\u001b[1m364/364\u001b[0m \u001b[32m━━━━━━━━━━━━━━━━━━━━\u001b[0m\u001b[37m\u001b[0m \u001b[1m0s\u001b[0m 6s/step - loss: 1.1152   \n",
      "Epoch 5: val_loss improved from 2.43369 to 2.25151, saving model to /mnt/c/Users/abder/Downloads/models_input_updated/checkpoint_model_OCR.keras\n",
      "\u001b[1m364/364\u001b[0m \u001b[32m━━━━━━━━━━━━━━━━━━━━\u001b[0m\u001b[37m\u001b[0m \u001b[1m2378s\u001b[0m 7s/step - loss: 1.1151 - val_loss: 2.2515 - learning_rate: 0.0010\n",
      "Epoch 6/50\n",
      "\u001b[1m364/364\u001b[0m \u001b[32m━━━━━━━━━━━━━━━━━━━━\u001b[0m\u001b[37m\u001b[0m \u001b[1m0s\u001b[0m 6s/step - loss: 0.7638   \n",
      "Epoch 6: val_loss did not improve from 2.25151\n",
      "\u001b[1m364/364\u001b[0m \u001b[32m━━━━━━━━━━━━━━━━━━━━\u001b[0m\u001b[37m\u001b[0m \u001b[1m2261s\u001b[0m 6s/step - loss: 0.7641 - val_loss: 3.7384 - learning_rate: 0.0010\n",
      "Epoch 7/50\n",
      "\u001b[1m364/364\u001b[0m \u001b[32m━━━━━━━━━━━━━━━━━━━━\u001b[0m\u001b[37m\u001b[0m \u001b[1m0s\u001b[0m 6s/step - loss: 1.2667   \n",
      "Epoch 7: val_loss improved from 2.25151 to 1.92941, saving model to /mnt/c/Users/abder/Downloads/models_input_updated/checkpoint_model_OCR.keras\n",
      "\u001b[1m364/364\u001b[0m \u001b[32m━━━━━━━━━━━━━━━━━━━━\u001b[0m\u001b[37m\u001b[0m \u001b[1m2362s\u001b[0m 6s/step - loss: 1.2660 - val_loss: 1.9294 - learning_rate: 0.0010\n",
      "Epoch 8/50\n",
      "\u001b[1m364/364\u001b[0m \u001b[32m━━━━━━━━━━━━━━━━━━━━\u001b[0m\u001b[37m\u001b[0m \u001b[1m0s\u001b[0m 6s/step - loss: 0.5165   \n",
      "Epoch 8: val_loss did not improve from 1.92941\n",
      "\u001b[1m364/364\u001b[0m \u001b[32m━━━━━━━━━━━━━━━━━━━━\u001b[0m\u001b[37m\u001b[0m \u001b[1m2355s\u001b[0m 6s/step - loss: 0.5165 - val_loss: 2.0169 - learning_rate: 0.0010\n",
      "Epoch 9/50\n",
      "\u001b[1m364/364\u001b[0m \u001b[32m━━━━━━━━━━━━━━━━━━━━\u001b[0m\u001b[37m\u001b[0m \u001b[1m0s\u001b[0m 7s/step - loss: 0.4787   \n",
      "Epoch 9: val_loss did not improve from 1.92941\n",
      "\u001b[1m364/364\u001b[0m \u001b[32m━━━━━━━━━━━━━━━━━━━━\u001b[0m\u001b[37m\u001b[0m \u001b[1m2559s\u001b[0m 7s/step - loss: 0.4791 - val_loss: 2.7869 - learning_rate: 0.0010\n",
      "Epoch 10/50\n",
      "\u001b[1m364/364\u001b[0m \u001b[32m━━━━━━━━━━━━━━━━━━━━\u001b[0m\u001b[37m\u001b[0m \u001b[1m0s\u001b[0m 7s/step - loss: 0.6845   \n",
      "Epoch 10: val_loss did not improve from 1.92941\n",
      "\n",
      "Epoch 10: ReduceLROnPlateau reducing learning rate to 0.0005000000237487257.\n",
      "\u001b[1m364/364\u001b[0m \u001b[32m━━━━━━━━━━━━━━━━━━━━\u001b[0m\u001b[37m\u001b[0m \u001b[1m2478s\u001b[0m 7s/step - loss: 0.6843 - val_loss: 2.5571 - learning_rate: 0.0010\n",
      "Epoch 11/50\n",
      "\u001b[1m364/364\u001b[0m \u001b[32m━━━━━━━━━━━━━━━━━━━━\u001b[0m\u001b[37m\u001b[0m \u001b[1m0s\u001b[0m 7s/step - loss: 0.2988   \n",
      "Epoch 11: val_loss improved from 1.92941 to 1.46276, saving model to /mnt/c/Users/abder/Downloads/models_input_updated/checkpoint_model_OCR.keras\n",
      "\u001b[1m364/364\u001b[0m \u001b[32m━━━━━━━━━━━━━━━━━━━━\u001b[0m\u001b[37m\u001b[0m \u001b[1m2671s\u001b[0m 7s/step - loss: 0.2986 - val_loss: 1.4628 - learning_rate: 5.0000e-04\n",
      "Epoch 12/50\n",
      "\u001b[1m364/364\u001b[0m \u001b[32m━━━━━━━━━━━━━━━━━━━━\u001b[0m\u001b[37m\u001b[0m \u001b[1m0s\u001b[0m 7s/step - loss: 0.1226   \n",
      "Epoch 12: val_loss improved from 1.46276 to 1.40599, saving model to /mnt/c/Users/abder/Downloads/models_input_updated/checkpoint_model_OCR.keras\n",
      "\u001b[1m364/364\u001b[0m \u001b[32m━━━━━━━━━━━━━━━━━━━━\u001b[0m\u001b[37m\u001b[0m \u001b[1m2738s\u001b[0m 8s/step - loss: 0.1225 - val_loss: 1.4060 - learning_rate: 5.0000e-04\n",
      "Epoch 13/50\n",
      "\u001b[1m364/364\u001b[0m \u001b[32m━━━━━━━━━━━━━━━━━━━━\u001b[0m\u001b[37m\u001b[0m \u001b[1m0s\u001b[0m 12s/step - loss: 0.0764     \n",
      "Epoch 13: val_loss improved from 1.40599 to 1.31533, saving model to /mnt/c/Users/abder/Downloads/models_input_updated/checkpoint_model_OCR.keras\n",
      "\u001b[1m364/364\u001b[0m \u001b[32m━━━━━━━━━━━━━━━━━━━━\u001b[0m\u001b[37m\u001b[0m \u001b[1m4290s\u001b[0m 12s/step - loss: 0.0763 - val_loss: 1.3153 - learning_rate: 5.0000e-04\n",
      "Epoch 14/50\n",
      "\u001b[1m364/364\u001b[0m \u001b[32m━━━━━━━━━━━━━━━━━━━━\u001b[0m\u001b[37m\u001b[0m \u001b[1m0s\u001b[0m 8s/step - loss: 0.0469   \n",
      "Epoch 14: val_loss did not improve from 1.31533\n",
      "\u001b[1m364/364\u001b[0m \u001b[32m━━━━━━━━━━━━━━━━━━━━\u001b[0m\u001b[37m\u001b[0m \u001b[1m2764s\u001b[0m 8s/step - loss: 0.0469 - val_loss: 1.3360 - learning_rate: 5.0000e-04\n",
      "Epoch 15/50\n",
      "\u001b[1m364/364\u001b[0m \u001b[32m━━━━━━━━━━━━━━━━━━━━\u001b[0m\u001b[37m\u001b[0m \u001b[1m0s\u001b[0m 8s/step - loss: 0.0548   \n",
      "Epoch 15: val_loss did not improve from 1.31533\n",
      "\u001b[1m364/364\u001b[0m \u001b[32m━━━━━━━━━━━━━━━━━━━━\u001b[0m\u001b[37m\u001b[0m \u001b[1m3060s\u001b[0m 8s/step - loss: 0.0548 - val_loss: 1.5167 - learning_rate: 5.0000e-04\n",
      "Epoch 16/50\n",
      "\u001b[1m364/364\u001b[0m \u001b[32m━━━━━━━━━━━━━━━━━━━━\u001b[0m\u001b[37m\u001b[0m \u001b[1m0s\u001b[0m 9s/step - loss: 0.0565    \n",
      "Epoch 16: val_loss did not improve from 1.31533\n",
      "\n",
      "Epoch 16: ReduceLROnPlateau reducing learning rate to 0.0002500000118743628.\n",
      "\u001b[1m364/364\u001b[0m \u001b[32m━━━━━━━━━━━━━━━━━━━━\u001b[0m\u001b[37m\u001b[0m \u001b[1m3171s\u001b[0m 9s/step - loss: 0.0565 - val_loss: 1.4422 - learning_rate: 5.0000e-04\n",
      "Epoch 17/50\n",
      "\u001b[1m146/364\u001b[0m \u001b[32m━━━━━━━━\u001b[0m\u001b[37m━━━━━━━━━━━━\u001b[0m \u001b[1m32:15\u001b[0m 9s/step - loss: 0.0383"
     ]
    },
    {
     "name": "stderr",
     "output_type": "stream",
     "text": [
      "2025-06-15 04:19:36.618897: E external/local_xla/xla/stream_executor/gpu/gpu_cudamallocasync_allocator.cc:359] gpu_async_0 cuMemAllocAsync failed to allocate 53674752 bytes: RESOURCE_EXHAUSTED: : CUDA_ERROR_OUT_OF_MEMORY: out of memory\n",
      " Reported by CUDA: Free memory/Total memory: 0/8585216000\n",
      "2025-06-15 04:19:36.620385: E external/local_xla/xla/stream_executor/gpu/gpu_cudamallocasync_allocator.cc:364] Stats: Limit:                      5788139520\n",
      "InUse:                      4259308585\n",
      "MaxInUse:                   5058414561\n",
      "NumAllocs:                    29516303\n",
      "MaxAllocSize:               1462763536\n",
      "Reserved:                            0\n",
      "PeakReserved:                        0\n",
      "LargestFreeBlock:                    0\n",
      "\n",
      "2025-06-15 04:19:36.620662: E external/local_xla/xla/stream_executor/gpu/gpu_cudamallocasync_allocator.cc:68] Histogram of current allocation: (allocation_size_in_bytes, nb_allocation_of_that_sizes), ...;\n",
      "2025-06-15 04:19:36.620667: E external/local_xla/xla/stream_executor/gpu/gpu_cudamallocasync_allocator.cc:71] 1, 1\n",
      "2025-06-15 04:19:36.620669: E external/local_xla/xla/stream_executor/gpu/gpu_cudamallocasync_allocator.cc:71] 4, 6731\n",
      "2025-06-15 04:19:36.620670: E external/local_xla/xla/stream_executor/gpu/gpu_cudamallocasync_allocator.cc:71] 8, 25\n",
      "2025-06-15 04:19:36.620671: E external/local_xla/xla/stream_executor/gpu/gpu_cudamallocasync_allocator.cc:71] 16, 11\n",
      "2025-06-15 04:19:36.620672: E external/local_xla/xla/stream_executor/gpu/gpu_cudamallocasync_allocator.cc:71] 24, 4\n",
      "2025-06-15 04:19:36.620673: E external/local_xla/xla/stream_executor/gpu/gpu_cudamallocasync_allocator.cc:71] 256, 178\n",
      "2025-06-15 04:19:36.620674: E external/local_xla/xla/stream_executor/gpu/gpu_cudamallocasync_allocator.cc:71] 480, 7\n",
      "2025-06-15 04:19:36.620675: E external/local_xla/xla/stream_executor/gpu/gpu_cudamallocasync_allocator.cc:71] 512, 206\n",
      "2025-06-15 04:19:36.620675: E external/local_xla/xla/stream_executor/gpu/gpu_cudamallocasync_allocator.cc:71] 1024, 400\n",
      "2025-06-15 04:19:36.620676: E external/local_xla/xla/stream_executor/gpu/gpu_cudamallocasync_allocator.cc:71] 1028, 1\n",
      "2025-06-15 04:19:36.620677: E external/local_xla/xla/stream_executor/gpu/gpu_cudamallocasync_allocator.cc:71] 2048, 275\n",
      "2025-06-15 04:19:36.620678: E external/local_xla/xla/stream_executor/gpu/gpu_cudamallocasync_allocator.cc:71] 4096, 189\n",
      "2025-06-15 04:19:36.620679: E external/local_xla/xla/stream_executor/gpu/gpu_cudamallocasync_allocator.cc:71] 8192, 114\n",
      "2025-06-15 04:19:36.620679: E external/local_xla/xla/stream_executor/gpu/gpu_cudamallocasync_allocator.cc:71] 16384, 6\n",
      "2025-06-15 04:19:36.620680: E external/local_xla/xla/stream_executor/gpu/gpu_cudamallocasync_allocator.cc:71] 37632, 6\n",
      "2025-06-15 04:19:36.620681: E external/local_xla/xla/stream_executor/gpu/gpu_cudamallocasync_allocator.cc:71] 65536, 44\n",
      "2025-06-15 04:19:36.620682: E external/local_xla/xla/stream_executor/gpu/gpu_cudamallocasync_allocator.cc:71] 131072, 12\n",
      "2025-06-15 04:19:36.620682: E external/local_xla/xla/stream_executor/gpu/gpu_cudamallocasync_allocator.cc:71] 147456, 18\n",
      "2025-06-15 04:19:36.620683: E external/local_xla/xla/stream_executor/gpu/gpu_cudamallocasync_allocator.cc:71] 262144, 42\n",
      "2025-06-15 04:19:36.620684: E external/local_xla/xla/stream_executor/gpu/gpu_cudamallocasync_allocator.cc:71] 327680, 1\n",
      "2025-06-15 04:19:36.620685: E external/local_xla/xla/stream_executor/gpu/gpu_cudamallocasync_allocator.cc:71] 491520, 8\n",
      "2025-06-15 04:19:36.620685: E external/local_xla/xla/stream_executor/gpu/gpu_cudamallocasync_allocator.cc:71] 524288, 12\n",
      "2025-06-15 04:19:36.620686: E external/local_xla/xla/stream_executor/gpu/gpu_cudamallocasync_allocator.cc:71] 589824, 24\n",
      "2025-06-15 04:19:36.620687: E external/local_xla/xla/stream_executor/gpu/gpu_cudamallocasync_allocator.cc:71] 1048576, 96\n",
      "2025-06-15 04:19:36.620688: E external/local_xla/xla/stream_executor/gpu/gpu_cudamallocasync_allocator.cc:71] 1310720, 3\n",
      "2025-06-15 04:19:36.620688: E external/local_xla/xla/stream_executor/gpu/gpu_cudamallocasync_allocator.cc:71] 2097152, 12\n",
      "2025-06-15 04:19:36.620689: E external/local_xla/xla/stream_executor/gpu/gpu_cudamallocasync_allocator.cc:71] 2359296, 36\n",
      "2025-06-15 04:19:36.620690: E external/local_xla/xla/stream_executor/gpu/gpu_cudamallocasync_allocator.cc:71] 2621440, 4\n",
      "2025-06-15 04:19:36.620691: E external/local_xla/xla/stream_executor/gpu/gpu_cudamallocasync_allocator.cc:71] 4194304, 54\n",
      "2025-06-15 04:19:36.620693: E external/local_xla/xla/stream_executor/gpu/gpu_cudamallocasync_allocator.cc:71] 5242880, 14\n",
      "2025-06-15 04:19:36.620694: E external/local_xla/xla/stream_executor/gpu/gpu_cudamallocasync_allocator.cc:71] 5251072, 3\n",
      "2025-06-15 04:19:36.620695: E external/local_xla/xla/stream_executor/gpu/gpu_cudamallocasync_allocator.cc:71] 5259264, 2\n",
      "2025-06-15 04:19:36.620696: E external/local_xla/xla/stream_executor/gpu/gpu_cudamallocasync_allocator.cc:71] 8388608, 6\n",
      "2025-06-15 04:19:36.620696: E external/local_xla/xla/stream_executor/gpu/gpu_cudamallocasync_allocator.cc:71] 8716288, 24\n",
      "2025-06-15 04:19:36.620697: E external/local_xla/xla/stream_executor/gpu/gpu_cudamallocasync_allocator.cc:71] 9437184, 18\n",
      "2025-06-15 04:19:36.620698: E external/local_xla/xla/stream_executor/gpu/gpu_cudamallocasync_allocator.cc:71] 10485760, 3\n",
      "2025-06-15 04:19:36.620699: E external/local_xla/xla/stream_executor/gpu/gpu_cudamallocasync_allocator.cc:71] 13107456, 2\n",
      "2025-06-15 04:19:36.620700: E external/local_xla/xla/stream_executor/gpu/gpu_cudamallocasync_allocator.cc:71] 16187392, 16\n",
      "2025-06-15 04:19:36.620700: E external/local_xla/xla/stream_executor/gpu/gpu_cudamallocasync_allocator.cc:71] 20971520, 8\n",
      "2025-06-15 04:19:36.620701: E external/local_xla/xla/stream_executor/gpu/gpu_cudamallocasync_allocator.cc:71] 24910848, 1\n",
      "2025-06-15 04:19:36.620702: E external/local_xla/xla/stream_executor/gpu/gpu_cudamallocasync_allocator.cc:71] 26214656, 2\n",
      "2025-06-15 04:19:36.620703: E external/local_xla/xla/stream_executor/gpu/gpu_cudamallocasync_allocator.cc:71] 30720000, 13\n",
      "2025-06-15 04:19:36.620703: E external/local_xla/xla/stream_executor/gpu/gpu_cudamallocasync_allocator.cc:71] 34865152, 13\n",
      "2025-06-15 04:19:36.620704: E external/local_xla/xla/stream_executor/gpu/gpu_cudamallocasync_allocator.cc:71] 64749568, 9\n",
      "2025-06-15 04:19:36.620705: E external/local_xla/xla/stream_executor/gpu/gpu_cudamallocasync_allocator.cc:71] 122880000, 9\n",
      "2025-06-15 04:19:36.620706: E external/local_xla/xla/stream_executor/gpu/gpu_cudamallocasync_allocator.cc:71] 129499136, 1\n",
      "2025-06-15 04:19:36.621096: E external/local_xla/xla/stream_executor/gpu/gpu_cudamallocasync_allocator.cc:104] CU_MEMPOOL_ATTR_RESERVED_MEM_CURRENT: 17146314752\n",
      "2025-06-15 04:19:36.621105: E external/local_xla/xla/stream_executor/gpu/gpu_cudamallocasync_allocator.cc:106] CU_MEMPOOL_ATTR_USED_MEM_CURRENT: 4259308585\n",
      "2025-06-15 04:19:36.621106: E external/local_xla/xla/stream_executor/gpu/gpu_cudamallocasync_allocator.cc:107] CU_MEMPOOL_ATTR_RESERVED_MEM_HIGH: 17179869184\n",
      "2025-06-15 04:19:36.621108: E external/local_xla/xla/stream_executor/gpu/gpu_cudamallocasync_allocator.cc:108] CU_MEMPOOL_ATTR_USED_MEM_HIGH: 5058414561\n",
      "E0000 00:00:1749957576.621587    1420 dnn.cc:948] OOM when allocating tensor with shape[53674752] and type uint8 on /job:localhost/replica:0/task:0/device:GPU:0 by allocator gpu_async_0\n",
      "2025-06-15 04:19:36.623124: W tensorflow/core/framework/op_kernel.cc:1857] OP_REQUIRES failed at cudnn_rnn_ops.cc:2182 : INTERNAL: Failed to call DoRnnBackward with model config: [rnn_mode, rnn_input_mode, rnn_direction_mode]: 2, 0, 0 , [num_layers, input_size, num_units, dir_count, max_seq_length, batch_size, cell_num_units]: [1, 1024, 256, 1, 40, 64, 256] \n",
      "2025-06-15 04:19:36.623201: I tensorflow/core/framework/local_rendezvous.cc:407] Local rendezvous is aborting with status: INTERNAL: Failed to call DoRnnBackward with model config: [rnn_mode, rnn_input_mode, rnn_direction_mode]: 2, 0, 0 , [num_layers, input_size, num_units, dir_count, max_seq_length, batch_size, cell_num_units]: [1, 1024, 256, 1, 40, 64, 256] \n",
      "\t [[{{function_node __inference_one_step_on_data_119173}}{{node gradient_tape/functional_1/biLSTM_2_1/forward_lstm_1_1/CudnnRNNBackpropV3}}]]\n",
      "2025-06-15 04:19:36.629964: E external/local_xla/xla/stream_executor/gpu/gpu_cudamallocasync_allocator.cc:359] gpu_async_0 cuMemAllocAsync failed to allocate 53674752 bytes: RESOURCE_EXHAUSTED: : CUDA_ERROR_OUT_OF_MEMORY: out of memory\n",
      " Reported by CUDA: Free memory/Total memory: 0/8585216000\n",
      "2025-06-15 04:19:36.629985: E external/local_xla/xla/stream_executor/gpu/gpu_cudamallocasync_allocator.cc:364] Stats: Limit:                      5788139520\n",
      "InUse:                      4224107781\n",
      "MaxInUse:                   5058414561\n",
      "NumAllocs:                    29516312\n",
      "MaxAllocSize:               1462763536\n",
      "Reserved:                            0\n",
      "PeakReserved:                        0\n",
      "LargestFreeBlock:                    0\n",
      "\n",
      "2025-06-15 04:19:36.630095: E external/local_xla/xla/stream_executor/gpu/gpu_cudamallocasync_allocator.cc:68] Histogram of current allocation: (allocation_size_in_bytes, nb_allocation_of_that_sizes), ...;\n",
      "2025-06-15 04:19:36.630106: E external/local_xla/xla/stream_executor/gpu/gpu_cudamallocasync_allocator.cc:71] 1, 1\n",
      "2025-06-15 04:19:36.630108: E external/local_xla/xla/stream_executor/gpu/gpu_cudamallocasync_allocator.cc:71] 4, 6730\n",
      "2025-06-15 04:19:36.630109: E external/local_xla/xla/stream_executor/gpu/gpu_cudamallocasync_allocator.cc:71] 8, 25\n",
      "2025-06-15 04:19:36.630110: E external/local_xla/xla/stream_executor/gpu/gpu_cudamallocasync_allocator.cc:71] 16, 11\n",
      "2025-06-15 04:19:36.630111: E external/local_xla/xla/stream_executor/gpu/gpu_cudamallocasync_allocator.cc:71] 24, 4\n",
      "2025-06-15 04:19:36.630112: E external/local_xla/xla/stream_executor/gpu/gpu_cudamallocasync_allocator.cc:71] 256, 178\n",
      "2025-06-15 04:19:36.630113: E external/local_xla/xla/stream_executor/gpu/gpu_cudamallocasync_allocator.cc:71] 480, 8\n",
      "2025-06-15 04:19:36.630114: E external/local_xla/xla/stream_executor/gpu/gpu_cudamallocasync_allocator.cc:71] 512, 206\n",
      "2025-06-15 04:19:36.630115: E external/local_xla/xla/stream_executor/gpu/gpu_cudamallocasync_allocator.cc:71] 1024, 400\n",
      "2025-06-15 04:19:36.630115: E external/local_xla/xla/stream_executor/gpu/gpu_cudamallocasync_allocator.cc:71] 1028, 1\n",
      "2025-06-15 04:19:36.630116: E external/local_xla/xla/stream_executor/gpu/gpu_cudamallocasync_allocator.cc:71] 2048, 275\n",
      "2025-06-15 04:19:36.630117: E external/local_xla/xla/stream_executor/gpu/gpu_cudamallocasync_allocator.cc:71] 4096, 189\n",
      "2025-06-15 04:19:36.630118: E external/local_xla/xla/stream_executor/gpu/gpu_cudamallocasync_allocator.cc:71] 8192, 114\n",
      "2025-06-15 04:19:36.630119: E external/local_xla/xla/stream_executor/gpu/gpu_cudamallocasync_allocator.cc:71] 16384, 6\n",
      "2025-06-15 04:19:36.630119: E external/local_xla/xla/stream_executor/gpu/gpu_cudamallocasync_allocator.cc:71] 37632, 6\n",
      "2025-06-15 04:19:36.630120: E external/local_xla/xla/stream_executor/gpu/gpu_cudamallocasync_allocator.cc:71] 65536, 42\n",
      "2025-06-15 04:19:36.630121: E external/local_xla/xla/stream_executor/gpu/gpu_cudamallocasync_allocator.cc:71] 131072, 12\n",
      "2025-06-15 04:19:36.630122: E external/local_xla/xla/stream_executor/gpu/gpu_cudamallocasync_allocator.cc:71] 147456, 18\n",
      "2025-06-15 04:19:36.630123: E external/local_xla/xla/stream_executor/gpu/gpu_cudamallocasync_allocator.cc:71] 262144, 42\n",
      "2025-06-15 04:19:36.630123: E external/local_xla/xla/stream_executor/gpu/gpu_cudamallocasync_allocator.cc:71] 327680, 1\n",
      "2025-06-15 04:19:36.630124: E external/local_xla/xla/stream_executor/gpu/gpu_cudamallocasync_allocator.cc:71] 491520, 6\n",
      "2025-06-15 04:19:36.630125: E external/local_xla/xla/stream_executor/gpu/gpu_cudamallocasync_allocator.cc:71] 524288, 12\n",
      "2025-06-15 04:19:36.630126: E external/local_xla/xla/stream_executor/gpu/gpu_cudamallocasync_allocator.cc:71] 589824, 24\n",
      "2025-06-15 04:19:36.630126: E external/local_xla/xla/stream_executor/gpu/gpu_cudamallocasync_allocator.cc:71] 1048576, 96\n",
      "2025-06-15 04:19:36.630127: E external/local_xla/xla/stream_executor/gpu/gpu_cudamallocasync_allocator.cc:71] 1310720, 3\n",
      "2025-06-15 04:19:36.630128: E external/local_xla/xla/stream_executor/gpu/gpu_cudamallocasync_allocator.cc:71] 2097152, 12\n",
      "2025-06-15 04:19:36.630129: E external/local_xla/xla/stream_executor/gpu/gpu_cudamallocasync_allocator.cc:71] 2359296, 36\n",
      "2025-06-15 04:19:36.630129: E external/local_xla/xla/stream_executor/gpu/gpu_cudamallocasync_allocator.cc:71] 2621440, 2\n",
      "2025-06-15 04:19:36.630130: E external/local_xla/xla/stream_executor/gpu/gpu_cudamallocasync_allocator.cc:71] 4194304, 54\n",
      "2025-06-15 04:19:36.630131: E external/local_xla/xla/stream_executor/gpu/gpu_cudamallocasync_allocator.cc:71] 5242880, 14\n",
      "2025-06-15 04:19:36.630132: E external/local_xla/xla/stream_executor/gpu/gpu_cudamallocasync_allocator.cc:71] 5251072, 2\n",
      "2025-06-15 04:19:36.630132: E external/local_xla/xla/stream_executor/gpu/gpu_cudamallocasync_allocator.cc:71] 5259264, 2\n",
      "2025-06-15 04:19:36.630133: E external/local_xla/xla/stream_executor/gpu/gpu_cudamallocasync_allocator.cc:71] 8388608, 6\n",
      "2025-06-15 04:19:36.630134: E external/local_xla/xla/stream_executor/gpu/gpu_cudamallocasync_allocator.cc:71] 8716288, 24\n",
      "2025-06-15 04:19:36.630134: E external/local_xla/xla/stream_executor/gpu/gpu_cudamallocasync_allocator.cc:71] 9437184, 18\n",
      "2025-06-15 04:19:36.630135: E external/local_xla/xla/stream_executor/gpu/gpu_cudamallocasync_allocator.cc:71] 10485760, 2\n",
      "2025-06-15 04:19:36.630136: E external/local_xla/xla/stream_executor/gpu/gpu_cudamallocasync_allocator.cc:71] 13107456, 1\n",
      "2025-06-15 04:19:36.630137: E external/local_xla/xla/stream_executor/gpu/gpu_cudamallocasync_allocator.cc:71] 16187392, 16\n",
      "2025-06-15 04:19:36.630139: E external/local_xla/xla/stream_executor/gpu/gpu_cudamallocasync_allocator.cc:71] 20971520, 8\n",
      "2025-06-15 04:19:36.630140: E external/local_xla/xla/stream_executor/gpu/gpu_cudamallocasync_allocator.cc:71] 24910848, 1\n",
      "2025-06-15 04:19:36.630141: E external/local_xla/xla/stream_executor/gpu/gpu_cudamallocasync_allocator.cc:71] 26214656, 2\n",
      "2025-06-15 04:19:36.630141: E external/local_xla/xla/stream_executor/gpu/gpu_cudamallocasync_allocator.cc:71] 30720000, 13\n",
      "2025-06-15 04:19:36.630142: E external/local_xla/xla/stream_executor/gpu/gpu_cudamallocasync_allocator.cc:71] 34865152, 13\n",
      "2025-06-15 04:19:36.630143: E external/local_xla/xla/stream_executor/gpu/gpu_cudamallocasync_allocator.cc:71] 64749568, 9\n",
      "2025-06-15 04:19:36.630144: E external/local_xla/xla/stream_executor/gpu/gpu_cudamallocasync_allocator.cc:71] 122880000, 9\n",
      "2025-06-15 04:19:36.630144: E external/local_xla/xla/stream_executor/gpu/gpu_cudamallocasync_allocator.cc:71] 129499136, 1\n",
      "2025-06-15 04:19:36.630147: E external/local_xla/xla/stream_executor/gpu/gpu_cudamallocasync_allocator.cc:104] CU_MEMPOOL_ATTR_RESERVED_MEM_CURRENT: 17146314752\n",
      "2025-06-15 04:19:36.630148: E external/local_xla/xla/stream_executor/gpu/gpu_cudamallocasync_allocator.cc:106] CU_MEMPOOL_ATTR_USED_MEM_CURRENT: 4224107781\n",
      "2025-06-15 04:19:36.630150: E external/local_xla/xla/stream_executor/gpu/gpu_cudamallocasync_allocator.cc:107] CU_MEMPOOL_ATTR_RESERVED_MEM_HIGH: 17179869184\n",
      "2025-06-15 04:19:36.630151: E external/local_xla/xla/stream_executor/gpu/gpu_cudamallocasync_allocator.cc:108] CU_MEMPOOL_ATTR_USED_MEM_HIGH: 5058414561\n",
      "E0000 00:00:1749957576.630157    1420 dnn.cc:948] OOM when allocating tensor with shape[53674752] and type uint8 on /job:localhost/replica:0/task:0/device:GPU:0 by allocator gpu_async_0\n",
      "2025-06-15 04:19:36.630175: W tensorflow/core/framework/op_kernel.cc:1857] OP_REQUIRES failed at cudnn_rnn_ops.cc:2182 : INTERNAL: Failed to call DoRnnBackward with model config: [rnn_mode, rnn_input_mode, rnn_direction_mode]: 2, 0, 0 , [num_layers, input_size, num_units, dir_count, max_seq_length, batch_size, cell_num_units]: [1, 1024, 256, 1, 40, 64, 256] \n"
     ]
    },
    {
     "ename": "InternalError",
     "evalue": "Graph execution error:\n\nDetected at node gradient_tape/functional_1/biLSTM_2_1/forward_lstm_1_1/CudnnRNNBackpropV3 defined at (most recent call last):\n  File \"/home/abder/miniconda3/envs/env_name/lib/python3.10/runpy.py\", line 196, in _run_module_as_main\n\n  File \"/home/abder/miniconda3/envs/env_name/lib/python3.10/runpy.py\", line 86, in _run_code\n\n  File \"/home/abder/miniconda3/envs/env_name/lib/python3.10/site-packages/ipykernel_launcher.py\", line 18, in <module>\n\n  File \"/home/abder/miniconda3/envs/env_name/lib/python3.10/site-packages/traitlets/config/application.py\", line 1075, in launch_instance\n\n  File \"/home/abder/miniconda3/envs/env_name/lib/python3.10/site-packages/ipykernel/kernelapp.py\", line 739, in start\n\n  File \"/home/abder/miniconda3/envs/env_name/lib/python3.10/site-packages/tornado/platform/asyncio.py\", line 211, in start\n\n  File \"/home/abder/miniconda3/envs/env_name/lib/python3.10/asyncio/base_events.py\", line 603, in run_forever\n\n  File \"/home/abder/miniconda3/envs/env_name/lib/python3.10/asyncio/base_events.py\", line 1909, in _run_once\n\n  File \"/home/abder/miniconda3/envs/env_name/lib/python3.10/asyncio/events.py\", line 80, in _run\n\n  File \"/home/abder/miniconda3/envs/env_name/lib/python3.10/site-packages/ipykernel/kernelbase.py\", line 545, in dispatch_queue\n\n  File \"/home/abder/miniconda3/envs/env_name/lib/python3.10/site-packages/ipykernel/kernelbase.py\", line 534, in process_one\n\n  File \"/home/abder/miniconda3/envs/env_name/lib/python3.10/site-packages/ipykernel/kernelbase.py\", line 437, in dispatch_shell\n\n  File \"/home/abder/miniconda3/envs/env_name/lib/python3.10/site-packages/ipykernel/ipkernel.py\", line 362, in execute_request\n\n  File \"/home/abder/miniconda3/envs/env_name/lib/python3.10/site-packages/ipykernel/kernelbase.py\", line 778, in execute_request\n\n  File \"/home/abder/miniconda3/envs/env_name/lib/python3.10/site-packages/ipykernel/ipkernel.py\", line 449, in do_execute\n\n  File \"/home/abder/miniconda3/envs/env_name/lib/python3.10/site-packages/ipykernel/zmqshell.py\", line 549, in run_cell\n\n  File \"/home/abder/miniconda3/envs/env_name/lib/python3.10/site-packages/IPython/core/interactiveshell.py\", line 3075, in run_cell\n\n  File \"/home/abder/miniconda3/envs/env_name/lib/python3.10/site-packages/IPython/core/interactiveshell.py\", line 3130, in _run_cell\n\n  File \"/home/abder/miniconda3/envs/env_name/lib/python3.10/site-packages/IPython/core/async_helpers.py\", line 128, in _pseudo_sync_runner\n\n  File \"/home/abder/miniconda3/envs/env_name/lib/python3.10/site-packages/IPython/core/interactiveshell.py\", line 3334, in run_cell_async\n\n  File \"/home/abder/miniconda3/envs/env_name/lib/python3.10/site-packages/IPython/core/interactiveshell.py\", line 3517, in run_ast_nodes\n\n  File \"/home/abder/miniconda3/envs/env_name/lib/python3.10/site-packages/IPython/core/interactiveshell.py\", line 3577, in run_code\n\n  File \"/tmp/ipykernel_1330/2101959980.py\", line 1, in <module>\n\n  File \"/home/abder/miniconda3/envs/env_name/lib/python3.10/site-packages/keras/src/utils/traceback_utils.py\", line 117, in error_handler\n\n  File \"/home/abder/miniconda3/envs/env_name/lib/python3.10/site-packages/keras/src/backend/tensorflow/trainer.py\", line 377, in fit\n\n  File \"/home/abder/miniconda3/envs/env_name/lib/python3.10/site-packages/keras/src/backend/tensorflow/trainer.py\", line 220, in function\n\n  File \"/home/abder/miniconda3/envs/env_name/lib/python3.10/site-packages/keras/src/backend/tensorflow/trainer.py\", line 133, in multi_step_on_iterator\n\n  File \"/home/abder/miniconda3/envs/env_name/lib/python3.10/site-packages/keras/src/backend/tensorflow/trainer.py\", line 114, in one_step_on_data\n\n  File \"/home/abder/miniconda3/envs/env_name/lib/python3.10/site-packages/keras/src/backend/tensorflow/trainer.py\", line 78, in train_step\n\nFailed to call DoRnnBackward with model config: [rnn_mode, rnn_input_mode, rnn_direction_mode]: 2, 0, 0 , [num_layers, input_size, num_units, dir_count, max_seq_length, batch_size, cell_num_units]: [1, 1024, 256, 1, 40, 64, 256] \n\t [[{{node gradient_tape/functional_1/biLSTM_2_1/forward_lstm_1_1/CudnnRNNBackpropV3}}]] [Op:__inference_multi_step_on_iterator_120767]",
     "output_type": "error",
     "traceback": [
      "\u001b[0;31m---------------------------------------------------------------------------\u001b[0m",
      "\u001b[0;31mInternalError\u001b[0m                             Traceback (most recent call last)",
      "Cell \u001b[0;32mIn[45], line 1\u001b[0m\n\u001b[0;32m----> 1\u001b[0m \u001b[43mmodel\u001b[49m\u001b[38;5;241;43m.\u001b[39;49m\u001b[43mfit\u001b[49m\u001b[43m(\u001b[49m\n\u001b[1;32m      2\u001b[0m \u001b[43m    \u001b[49m\u001b[43mtrain_ds\u001b[49m\u001b[43m,\u001b[49m\n\u001b[1;32m      3\u001b[0m \u001b[43m    \u001b[49m\u001b[43mvalidation_data\u001b[49m\u001b[38;5;241;43m=\u001b[39;49m\u001b[43mval_ds\u001b[49m\u001b[43m,\u001b[49m\n\u001b[1;32m      4\u001b[0m \u001b[43m    \u001b[49m\u001b[43mepochs\u001b[49m\u001b[38;5;241;43m=\u001b[39;49m\u001b[38;5;241;43m50\u001b[39;49m\u001b[43m,\u001b[49m\n\u001b[1;32m      5\u001b[0m \u001b[43m    \u001b[49m\u001b[43mcallbacks\u001b[49m\u001b[38;5;241;43m=\u001b[39;49m\u001b[43mcallbacks_list\u001b[49m\n\u001b[1;32m      6\u001b[0m \u001b[43m)\u001b[49m\n",
      "File \u001b[0;32m~/miniconda3/envs/env_name/lib/python3.10/site-packages/keras/src/utils/traceback_utils.py:122\u001b[0m, in \u001b[0;36mfilter_traceback.<locals>.error_handler\u001b[0;34m(*args, **kwargs)\u001b[0m\n\u001b[1;32m    119\u001b[0m     filtered_tb \u001b[38;5;241m=\u001b[39m _process_traceback_frames(e\u001b[38;5;241m.\u001b[39m__traceback__)\n\u001b[1;32m    120\u001b[0m     \u001b[38;5;66;03m# To get the full stack trace, call:\u001b[39;00m\n\u001b[1;32m    121\u001b[0m     \u001b[38;5;66;03m# `keras.config.disable_traceback_filtering()`\u001b[39;00m\n\u001b[0;32m--> 122\u001b[0m     \u001b[38;5;28;01mraise\u001b[39;00m e\u001b[38;5;241m.\u001b[39mwith_traceback(filtered_tb) \u001b[38;5;28;01mfrom\u001b[39;00m\u001b[38;5;250m \u001b[39m\u001b[38;5;28;01mNone\u001b[39;00m\n\u001b[1;32m    123\u001b[0m \u001b[38;5;28;01mfinally\u001b[39;00m:\n\u001b[1;32m    124\u001b[0m     \u001b[38;5;28;01mdel\u001b[39;00m filtered_tb\n",
      "File \u001b[0;32m~/miniconda3/envs/env_name/lib/python3.10/site-packages/tensorflow/python/eager/execute.py:53\u001b[0m, in \u001b[0;36mquick_execute\u001b[0;34m(op_name, num_outputs, inputs, attrs, ctx, name)\u001b[0m\n\u001b[1;32m     51\u001b[0m \u001b[38;5;28;01mtry\u001b[39;00m:\n\u001b[1;32m     52\u001b[0m   ctx\u001b[38;5;241m.\u001b[39mensure_initialized()\n\u001b[0;32m---> 53\u001b[0m   tensors \u001b[38;5;241m=\u001b[39m pywrap_tfe\u001b[38;5;241m.\u001b[39mTFE_Py_Execute(ctx\u001b[38;5;241m.\u001b[39m_handle, device_name, op_name,\n\u001b[1;32m     54\u001b[0m                                       inputs, attrs, num_outputs)\n\u001b[1;32m     55\u001b[0m \u001b[38;5;28;01mexcept\u001b[39;00m core\u001b[38;5;241m.\u001b[39m_NotOkStatusException \u001b[38;5;28;01mas\u001b[39;00m e:\n\u001b[1;32m     56\u001b[0m   \u001b[38;5;28;01mif\u001b[39;00m name \u001b[38;5;129;01mis\u001b[39;00m \u001b[38;5;129;01mnot\u001b[39;00m \u001b[38;5;28;01mNone\u001b[39;00m:\n",
      "\u001b[0;31mInternalError\u001b[0m: Graph execution error:\n\nDetected at node gradient_tape/functional_1/biLSTM_2_1/forward_lstm_1_1/CudnnRNNBackpropV3 defined at (most recent call last):\n  File \"/home/abder/miniconda3/envs/env_name/lib/python3.10/runpy.py\", line 196, in _run_module_as_main\n\n  File \"/home/abder/miniconda3/envs/env_name/lib/python3.10/runpy.py\", line 86, in _run_code\n\n  File \"/home/abder/miniconda3/envs/env_name/lib/python3.10/site-packages/ipykernel_launcher.py\", line 18, in <module>\n\n  File \"/home/abder/miniconda3/envs/env_name/lib/python3.10/site-packages/traitlets/config/application.py\", line 1075, in launch_instance\n\n  File \"/home/abder/miniconda3/envs/env_name/lib/python3.10/site-packages/ipykernel/kernelapp.py\", line 739, in start\n\n  File \"/home/abder/miniconda3/envs/env_name/lib/python3.10/site-packages/tornado/platform/asyncio.py\", line 211, in start\n\n  File \"/home/abder/miniconda3/envs/env_name/lib/python3.10/asyncio/base_events.py\", line 603, in run_forever\n\n  File \"/home/abder/miniconda3/envs/env_name/lib/python3.10/asyncio/base_events.py\", line 1909, in _run_once\n\n  File \"/home/abder/miniconda3/envs/env_name/lib/python3.10/asyncio/events.py\", line 80, in _run\n\n  File \"/home/abder/miniconda3/envs/env_name/lib/python3.10/site-packages/ipykernel/kernelbase.py\", line 545, in dispatch_queue\n\n  File \"/home/abder/miniconda3/envs/env_name/lib/python3.10/site-packages/ipykernel/kernelbase.py\", line 534, in process_one\n\n  File \"/home/abder/miniconda3/envs/env_name/lib/python3.10/site-packages/ipykernel/kernelbase.py\", line 437, in dispatch_shell\n\n  File \"/home/abder/miniconda3/envs/env_name/lib/python3.10/site-packages/ipykernel/ipkernel.py\", line 362, in execute_request\n\n  File \"/home/abder/miniconda3/envs/env_name/lib/python3.10/site-packages/ipykernel/kernelbase.py\", line 778, in execute_request\n\n  File \"/home/abder/miniconda3/envs/env_name/lib/python3.10/site-packages/ipykernel/ipkernel.py\", line 449, in do_execute\n\n  File \"/home/abder/miniconda3/envs/env_name/lib/python3.10/site-packages/ipykernel/zmqshell.py\", line 549, in run_cell\n\n  File \"/home/abder/miniconda3/envs/env_name/lib/python3.10/site-packages/IPython/core/interactiveshell.py\", line 3075, in run_cell\n\n  File \"/home/abder/miniconda3/envs/env_name/lib/python3.10/site-packages/IPython/core/interactiveshell.py\", line 3130, in _run_cell\n\n  File \"/home/abder/miniconda3/envs/env_name/lib/python3.10/site-packages/IPython/core/async_helpers.py\", line 128, in _pseudo_sync_runner\n\n  File \"/home/abder/miniconda3/envs/env_name/lib/python3.10/site-packages/IPython/core/interactiveshell.py\", line 3334, in run_cell_async\n\n  File \"/home/abder/miniconda3/envs/env_name/lib/python3.10/site-packages/IPython/core/interactiveshell.py\", line 3517, in run_ast_nodes\n\n  File \"/home/abder/miniconda3/envs/env_name/lib/python3.10/site-packages/IPython/core/interactiveshell.py\", line 3577, in run_code\n\n  File \"/tmp/ipykernel_1330/2101959980.py\", line 1, in <module>\n\n  File \"/home/abder/miniconda3/envs/env_name/lib/python3.10/site-packages/keras/src/utils/traceback_utils.py\", line 117, in error_handler\n\n  File \"/home/abder/miniconda3/envs/env_name/lib/python3.10/site-packages/keras/src/backend/tensorflow/trainer.py\", line 377, in fit\n\n  File \"/home/abder/miniconda3/envs/env_name/lib/python3.10/site-packages/keras/src/backend/tensorflow/trainer.py\", line 220, in function\n\n  File \"/home/abder/miniconda3/envs/env_name/lib/python3.10/site-packages/keras/src/backend/tensorflow/trainer.py\", line 133, in multi_step_on_iterator\n\n  File \"/home/abder/miniconda3/envs/env_name/lib/python3.10/site-packages/keras/src/backend/tensorflow/trainer.py\", line 114, in one_step_on_data\n\n  File \"/home/abder/miniconda3/envs/env_name/lib/python3.10/site-packages/keras/src/backend/tensorflow/trainer.py\", line 78, in train_step\n\nFailed to call DoRnnBackward with model config: [rnn_mode, rnn_input_mode, rnn_direction_mode]: 2, 0, 0 , [num_layers, input_size, num_units, dir_count, max_seq_length, batch_size, cell_num_units]: [1, 1024, 256, 1, 40, 64, 256] \n\t [[{{node gradient_tape/functional_1/biLSTM_2_1/forward_lstm_1_1/CudnnRNNBackpropV3}}]] [Op:__inference_multi_step_on_iterator_120767]"
     ]
    }
   ],
   "source": [
    "model.fit(\n",
    "    train_ds,\n",
    "    validation_data=val_ds,\n",
    "    epochs=50,\n",
    "    callbacks=callbacks_list\n",
    ")  "
   ]
  },
  {
   "cell_type": "markdown",
   "id": "c4a8aea1-13b3-4a16-8950-df159c068a86",
   "metadata": {},
   "source": [
    "### Training 2"
   ]
  },
  {
   "cell_type": "code",
   "execution_count": 33,
   "id": "667ef6f4-19fe-4e7a-ba16-4ac1d55d976d",
   "metadata": {},
   "outputs": [],
   "source": [
    "from tensorflow.keras.models import load_model\n",
    "from tensorflow.keras.optimizers import Adam\n",
    "from tensorflow.keras.callbacks import ModelCheckpoint, ReduceLROnPlateau, EarlyStopping\n",
    "from tensorflow.keras.saving import register_keras_serializable\n",
    "from tensorflow.keras import backend as K\n",
    "\n",
    "# Register CTC loss for deserialization\n",
    "@register_keras_serializable()\n",
    "def ctc_loss(args):\n",
    "    y_pred, labels, input_length, label_length = args\n",
    "    y_pred = y_pred[:, 2:, :]\n",
    "    return K.ctc_batch_cost(labels, y_pred, input_length, label_length)\n",
    "\n",
    "# Load full model\n",
    "model = load_model(\n",
    "    '/mnt/c/Users/abder/Downloads/models_input_updated/Resnet2LSTMFinal(76).keras',\n",
    "    custom_objects={'ctc_loss': ctc_loss},\n",
    "    compile=False\n",
    ")\n",
    "\n",
    "# Freeze all layers first\n",
    "for layer in model.layers:\n",
    "    layer.trainable = False\n",
    "\n",
    "# Unfreeze only the last 30 layers\n",
    "for layer in model.layers[-30:]:\n",
    "    layer.trainable = True\n",
    "\n",
    "# Compile model\n",
    "optimizer = Adam(learning_rate=1e-4, beta_1=0.9, beta_2=0.999, clipnorm=5)\n",
    "model.compile(loss={'ctc': lambda y_true, y_pred: y_pred}, optimizer=optimizer)\n",
    "\n",
    "# Set up callback\n",
    "callbacks_list = [\n",
    "    ModelCheckpoint(\n",
    "        filepath='/mnt/c/Users/abder/Downloads/models_input_updated/checkpoint_model_OCR.keras',\n",
    "        verbose=1,\n",
    "        save_best_only=True\n",
    "    ),\n",
    "    ReduceLROnPlateau(\n",
    "        monitor='val_loss',\n",
    "        factor=0.5,\n",
    "        patience=3,\n",
    "        min_lr=1e-6,\n",
    "        verbose=1\n",
    "    ),\n",
    "    EarlyStopping(\n",
    "        monitor='val_loss',\n",
    "        patience=6,\n",
    "        restore_best_weights=True\n",
    "    ),\n",
    "    EpochCleanupCallback()\n",
    "]\n"
   ]
  },
  {
   "cell_type": "code",
   "execution_count": 31,
   "id": "796519db-f222-48ff-8319-11be27b6309d",
   "metadata": {
    "scrolled": true
   },
   "outputs": [
    {
     "name": "stdout",
     "output_type": "stream",
     "text": [
      "Epoch 17/50\n"
     ]
    },
    {
     "name": "stderr",
     "output_type": "stream",
     "text": [
      "I0000 00:00:1750021898.657289     523 cuda_dnn.cc:529] Loaded cuDNN version 90300\n"
     ]
    },
    {
     "name": "stdout",
     "output_type": "stream",
     "text": [
      "\u001b[1m364/364\u001b[0m \u001b[32m━━━━━━━━━━━━━━━━━━━━\u001b[0m\u001b[37m\u001b[0m \u001b[1m0s\u001b[0m 301ms/step - loss: 0.0462  \n",
      "Epoch 17: val_loss improved from inf to 1.30361, saving model to /mnt/c/Users/abder/Downloads/models_input_updated/checkpoint_model_OCR.keras\n",
      "\u001b[1m364/364\u001b[0m \u001b[32m━━━━━━━━━━━━━━━━━━━━\u001b[0m\u001b[37m\u001b[0m \u001b[1m129s\u001b[0m 325ms/step - loss: 0.0462 - val_loss: 1.3036 - learning_rate: 1.0000e-04\n",
      "Epoch 18/50\n",
      "\u001b[1m364/364\u001b[0m \u001b[32m━━━━━━━━━━━━━━━━━━━━\u001b[0m\u001b[37m\u001b[0m \u001b[1m0s\u001b[0m 184ms/step - loss: 0.0291  \n",
      "Epoch 18: val_loss did not improve from 1.30361\n",
      "\u001b[1m364/364\u001b[0m \u001b[32m━━━━━━━━━━━━━━━━━━━━\u001b[0m\u001b[37m\u001b[0m \u001b[1m70s\u001b[0m 192ms/step - loss: 0.0292 - val_loss: 1.3398 - learning_rate: 1.0000e-04\n",
      "Epoch 19/50\n",
      "\u001b[1m364/364\u001b[0m \u001b[32m━━━━━━━━━━━━━━━━━━━━\u001b[0m\u001b[37m\u001b[0m \u001b[1m0s\u001b[0m 193ms/step - loss: 0.0247  \n",
      "Epoch 19: val_loss did not improve from 1.30361\n",
      "\u001b[1m364/364\u001b[0m \u001b[32m━━━━━━━━━━━━━━━━━━━━\u001b[0m\u001b[37m\u001b[0m \u001b[1m74s\u001b[0m 201ms/step - loss: 0.0247 - val_loss: 1.3464 - learning_rate: 1.0000e-04\n",
      "Epoch 20/50\n",
      "\u001b[1m364/364\u001b[0m \u001b[32m━━━━━━━━━━━━━━━━━━━━\u001b[0m\u001b[37m\u001b[0m \u001b[1m0s\u001b[0m 209ms/step - loss: 0.0211 \n",
      "Epoch 20: val_loss did not improve from 1.30361\n",
      "\n",
      "Epoch 20: ReduceLROnPlateau reducing learning rate to 4.999999873689376e-05.\n",
      "\u001b[1m364/364\u001b[0m \u001b[32m━━━━━━━━━━━━━━━━━━━━\u001b[0m\u001b[37m\u001b[0m \u001b[1m80s\u001b[0m 219ms/step - loss: 0.0211 - val_loss: 1.3470 - learning_rate: 1.0000e-04\n",
      "Epoch 21/50\n",
      "\u001b[1m364/364\u001b[0m \u001b[32m━━━━━━━━━━━━━━━━━━━━\u001b[0m\u001b[37m\u001b[0m \u001b[1m0s\u001b[0m 213ms/step - loss: 0.0152  \n",
      "Epoch 21: val_loss did not improve from 1.30361\n",
      "\u001b[1m364/364\u001b[0m \u001b[32m━━━━━━━━━━━━━━━━━━━━\u001b[0m\u001b[37m\u001b[0m \u001b[1m84s\u001b[0m 229ms/step - loss: 0.0152 - val_loss: 1.3547 - learning_rate: 5.0000e-05\n",
      "Epoch 22/50\n",
      "\u001b[1m364/364\u001b[0m \u001b[32m━━━━━━━━━━━━━━━━━━━━\u001b[0m\u001b[37m\u001b[0m \u001b[1m0s\u001b[0m 191ms/step - loss: 0.0141  \n",
      "Epoch 22: val_loss did not improve from 1.30361\n",
      "\u001b[1m364/364\u001b[0m \u001b[32m━━━━━━━━━━━━━━━━━━━━\u001b[0m\u001b[37m\u001b[0m \u001b[1m73s\u001b[0m 199ms/step - loss: 0.0141 - val_loss: 1.3612 - learning_rate: 5.0000e-05\n",
      "Epoch 23/50\n",
      "\u001b[1m364/364\u001b[0m \u001b[32m━━━━━━━━━━━━━━━━━━━━\u001b[0m\u001b[37m\u001b[0m \u001b[1m0s\u001b[0m 195ms/step - loss: 0.0127  \n",
      "Epoch 23: val_loss did not improve from 1.30361\n",
      "\n",
      "Epoch 23: ReduceLROnPlateau reducing learning rate to 2.499999936844688e-05.\n",
      "\u001b[1m364/364\u001b[0m \u001b[32m━━━━━━━━━━━━━━━━━━━━\u001b[0m\u001b[37m\u001b[0m \u001b[1m75s\u001b[0m 205ms/step - loss: 0.0127 - val_loss: 1.3574 - learning_rate: 5.0000e-05\n"
     ]
    },
    {
     "data": {
      "text/plain": [
       "<keras.src.callbacks.history.History at 0x7f97141a3c70>"
      ]
     },
     "execution_count": 31,
     "metadata": {},
     "output_type": "execute_result"
    }
   ],
   "source": [
    "# Resume training from epoch 16\n",
    "model.fit(\n",
    "    train_ds,\n",
    "    validation_data=val_ds,\n",
    "    epochs=50,\n",
    "    initial_epoch=16,\n",
    "    callbacks=callbacks_list\n",
    ")"
   ]
  },
  {
   "cell_type": "code",
   "execution_count": 34,
   "id": "702fa6a7-f269-48c5-bbc5-e53eb4193e7d",
   "metadata": {},
   "outputs": [],
   "source": [
    "from tensorflow.keras.models import load_model\n",
    "from tensorflow.keras.optimizers import Adam\n",
    "from tensorflow.keras.callbacks import ModelCheckpoint, ReduceLROnPlateau, EarlyStopping\n",
    "from tensorflow.keras.saving import register_keras_serializable\n",
    "from tensorflow.keras import backend as K\n",
    "\n",
    "# Register CTC loss for deserialization\n",
    "@register_keras_serializable()\n",
    "def ctc_loss(args):\n",
    "    y_pred, labels, input_length, label_length = args\n",
    "    y_pred = y_pred[:, 2:, :]\n",
    "    return K.ctc_batch_cost(labels, y_pred, input_length, label_length)\n",
    "\n",
    "# Load full model\n",
    "model = load_model(\n",
    "    '/mnt/c/Users/abder/Downloads/models_input_updated/Resnet2LSTMFinal(76).keras',\n",
    "    custom_objects={'ctc_loss': ctc_loss},\n",
    "    compile=False\n",
    ")\n",
    "\n",
    "# Freeze all layers first\n",
    "for layer in model.layers:\n",
    "    layer.trainable = False\n",
    "\n",
    "# Unfreeze only the last 30 layers\n",
    "for layer in model.layers[-50:]:\n",
    "    layer.trainable = True\n",
    "\n",
    "# Compile model (you already correctly used dummy loss for Lambda)\n",
    "optimizer = Adam(learning_rate=1e-5, beta_1=0.9, beta_2=0.999, clipnorm=5)\n",
    "model.compile(loss={'ctc': lambda y_true, y_pred: y_pred}, optimizer=optimizer)\n",
    "\n",
    "# Set up callbacks (assuming EpochCleanupCallback is defined somewhere)\n",
    "callbacks_list = [\n",
    "    ModelCheckpoint(\n",
    "        filepath='/mnt/c/Users/abder/Downloads/models_input_updated/checkpoint_model_OCR.keras',\n",
    "        verbose=1,\n",
    "        save_best_only=True\n",
    "    ),\n",
    "    ReduceLROnPlateau(\n",
    "        monitor='val_loss',\n",
    "        factor=0.5,\n",
    "        patience=3,\n",
    "        min_lr=1e-6,\n",
    "        verbose=1\n",
    "    ),\n",
    "    EarlyStopping(\n",
    "        monitor='val_loss',\n",
    "        patience=6,\n",
    "        restore_best_weights=True\n",
    "    ),\n",
    "    EpochCleanupCallback()\n",
    "]"
   ]
  },
  {
   "cell_type": "code",
   "execution_count": 33,
   "id": "5cd64973-8a0a-463f-aafb-fd5210e3b0b5",
   "metadata": {
    "collapsed": true,
    "jupyter": {
     "outputs_hidden": true
    }
   },
   "outputs": [
    {
     "name": "stdout",
     "output_type": "stream",
     "text": [
      "Epoch 17/50\n",
      "\u001b[1m364/364\u001b[0m \u001b[32m━━━━━━━━━━━━━━━━━━━━\u001b[0m\u001b[37m\u001b[0m \u001b[1m0s\u001b[0m 222ms/step - loss: 0.0529  \n",
      "Epoch 17: val_loss improved from inf to 1.30553, saving model to /mnt/c/Users/abder/Downloads/models_input_updated/checkpoint_model_OCR.keras\n",
      "\u001b[1m364/364\u001b[0m \u001b[32m━━━━━━━━━━━━━━━━━━━━\u001b[0m\u001b[37m\u001b[0m \u001b[1m96s\u001b[0m 243ms/step - loss: 0.0529 - val_loss: 1.3055 - learning_rate: 1.0000e-05\n",
      "Epoch 18/50\n",
      "\u001b[1m364/364\u001b[0m \u001b[32m━━━━━━━━━━━━━━━━━━━━\u001b[0m\u001b[37m\u001b[0m \u001b[1m0s\u001b[0m 216ms/step - loss: 0.0426  \n",
      "Epoch 18: val_loss improved from 1.30553 to 1.29965, saving model to /mnt/c/Users/abder/Downloads/models_input_updated/checkpoint_model_OCR.keras\n",
      "\u001b[1m364/364\u001b[0m \u001b[32m━━━━━━━━━━━━━━━━━━━━\u001b[0m\u001b[37m\u001b[0m \u001b[1m85s\u001b[0m 233ms/step - loss: 0.0426 - val_loss: 1.2996 - learning_rate: 1.0000e-05\n",
      "Epoch 19/50\n",
      "\u001b[1m364/364\u001b[0m \u001b[32m━━━━━━━━━━━━━━━━━━━━\u001b[0m\u001b[37m\u001b[0m \u001b[1m0s\u001b[0m 224ms/step - loss: 0.0367  \n",
      "Epoch 19: val_loss improved from 1.29965 to 1.29346, saving model to /mnt/c/Users/abder/Downloads/models_input_updated/checkpoint_model_OCR.keras\n",
      "\u001b[1m364/364\u001b[0m \u001b[32m━━━━━━━━━━━━━━━━━━━━\u001b[0m\u001b[37m\u001b[0m \u001b[1m89s\u001b[0m 243ms/step - loss: 0.0367 - val_loss: 1.2935 - learning_rate: 1.0000e-05\n",
      "Epoch 20/50\n",
      "\u001b[1m364/364\u001b[0m \u001b[32m━━━━━━━━━━━━━━━━━━━━\u001b[0m\u001b[37m\u001b[0m \u001b[1m0s\u001b[0m 224ms/step - loss: 0.0325  \n",
      "Epoch 20: val_loss did not improve from 1.29346\n",
      "\u001b[1m364/364\u001b[0m \u001b[32m━━━━━━━━━━━━━━━━━━━━\u001b[0m\u001b[37m\u001b[0m \u001b[1m85s\u001b[0m 232ms/step - loss: 0.0325 - val_loss: 1.2941 - learning_rate: 1.0000e-05\n",
      "Epoch 21/50\n",
      "\u001b[1m364/364\u001b[0m \u001b[32m━━━━━━━━━━━━━━━━━━━━\u001b[0m\u001b[37m\u001b[0m \u001b[1m0s\u001b[0m 1s/step - loss: 0.0293      \n",
      "Epoch 21: val_loss improved from 1.29346 to 1.29072, saving model to /mnt/c/Users/abder/Downloads/models_input_updated/checkpoint_model_OCR.keras\n",
      "\u001b[1m364/364\u001b[0m \u001b[32m━━━━━━━━━━━━━━━━━━━━\u001b[0m\u001b[37m\u001b[0m \u001b[1m397s\u001b[0m 1s/step - loss: 0.0293 - val_loss: 1.2907 - learning_rate: 1.0000e-05\n",
      "Epoch 22/50\n",
      "\u001b[1m364/364\u001b[0m \u001b[32m━━━━━━━━━━━━━━━━━━━━\u001b[0m\u001b[37m\u001b[0m \u001b[1m0s\u001b[0m 1s/step - loss: 0.0288   \n",
      "Epoch 22: val_loss did not improve from 1.29072\n",
      "\u001b[1m364/364\u001b[0m \u001b[32m━━━━━━━━━━━━━━━━━━━━\u001b[0m\u001b[37m\u001b[0m \u001b[1m454s\u001b[0m 1s/step - loss: 0.0288 - val_loss: 1.2919 - learning_rate: 1.0000e-05\n",
      "Epoch 23/50\n",
      "\u001b[1m364/364\u001b[0m \u001b[32m━━━━━━━━━━━━━━━━━━━━\u001b[0m\u001b[37m\u001b[0m \u001b[1m0s\u001b[0m 1s/step - loss: 0.0288     \n",
      "Epoch 23: val_loss did not improve from 1.29072\n",
      "\u001b[1m364/364\u001b[0m \u001b[32m━━━━━━━━━━━━━━━━━━━━\u001b[0m\u001b[37m\u001b[0m \u001b[1m475s\u001b[0m 1s/step - loss: 0.0288 - val_loss: 1.2972 - learning_rate: 1.0000e-05\n",
      "Epoch 24/50\n",
      "\u001b[1m364/364\u001b[0m \u001b[32m━━━━━━━━━━━━━━━━━━━━\u001b[0m\u001b[37m\u001b[0m \u001b[1m0s\u001b[0m 1s/step - loss: 0.0267     \n",
      "Epoch 24: val_loss improved from 1.29072 to 1.28923, saving model to /mnt/c/Users/abder/Downloads/models_input_updated/checkpoint_model_OCR.keras\n",
      "\u001b[1m364/364\u001b[0m \u001b[32m━━━━━━━━━━━━━━━━━━━━\u001b[0m\u001b[37m\u001b[0m \u001b[1m414s\u001b[0m 1s/step - loss: 0.0267 - val_loss: 1.2892 - learning_rate: 1.0000e-05\n",
      "Epoch 25/50\n",
      "\u001b[1m364/364\u001b[0m \u001b[32m━━━━━━━━━━━━━━━━━━━━\u001b[0m\u001b[37m\u001b[0m \u001b[1m0s\u001b[0m 1s/step - loss: 0.0255   \n",
      "Epoch 25: val_loss did not improve from 1.28923\n",
      "\u001b[1m364/364\u001b[0m \u001b[32m━━━━━━━━━━━━━━━━━━━━\u001b[0m\u001b[37m\u001b[0m \u001b[1m476s\u001b[0m 1s/step - loss: 0.0255 - val_loss: 1.2990 - learning_rate: 1.0000e-05\n",
      "Epoch 26/50\n",
      "\u001b[1m364/364\u001b[0m \u001b[32m━━━━━━━━━━━━━━━━━━━━\u001b[0m\u001b[37m\u001b[0m \u001b[1m0s\u001b[0m 2s/step - loss: 0.0254   \n",
      "Epoch 26: val_loss did not improve from 1.28923\n",
      "\u001b[1m364/364\u001b[0m \u001b[32m━━━━━━━━━━━━━━━━━━━━\u001b[0m\u001b[37m\u001b[0m \u001b[1m559s\u001b[0m 2s/step - loss: 0.0254 - val_loss: 1.2932 - learning_rate: 1.0000e-05\n",
      "Epoch 27/50\n",
      "\u001b[1m 67/364\u001b[0m \u001b[32m━━━\u001b[0m\u001b[37m━━━━━━━━━━━━━━━━━\u001b[0m \u001b[1m6:01\u001b[0m 1s/step - loss: 0.0216   "
     ]
    },
    {
     "ename": "KeyboardInterrupt",
     "evalue": "",
     "output_type": "error",
     "traceback": [
      "\u001b[0;31m---------------------------------------------------------------------------\u001b[0m",
      "\u001b[0;31mKeyboardInterrupt\u001b[0m                         Traceback (most recent call last)",
      "Cell \u001b[0;32mIn[33], line 2\u001b[0m\n\u001b[1;32m      1\u001b[0m \u001b[38;5;66;03m# Resume training from epoch 16\u001b[39;00m\n\u001b[0;32m----> 2\u001b[0m \u001b[43mmodel\u001b[49m\u001b[38;5;241;43m.\u001b[39;49m\u001b[43mfit\u001b[49m\u001b[43m(\u001b[49m\n\u001b[1;32m      3\u001b[0m \u001b[43m    \u001b[49m\u001b[43mtrain_ds\u001b[49m\u001b[43m,\u001b[49m\n\u001b[1;32m      4\u001b[0m \u001b[43m    \u001b[49m\u001b[43mvalidation_data\u001b[49m\u001b[38;5;241;43m=\u001b[39;49m\u001b[43mval_ds\u001b[49m\u001b[43m,\u001b[49m\n\u001b[1;32m      5\u001b[0m \u001b[43m    \u001b[49m\u001b[43mepochs\u001b[49m\u001b[38;5;241;43m=\u001b[39;49m\u001b[38;5;241;43m50\u001b[39;49m\u001b[43m,\u001b[49m\n\u001b[1;32m      6\u001b[0m \u001b[43m    \u001b[49m\u001b[43minitial_epoch\u001b[49m\u001b[38;5;241;43m=\u001b[39;49m\u001b[38;5;241;43m16\u001b[39;49m\u001b[43m,\u001b[49m\n\u001b[1;32m      7\u001b[0m \u001b[43m    \u001b[49m\u001b[43mcallbacks\u001b[49m\u001b[38;5;241;43m=\u001b[39;49m\u001b[43mcallbacks_list\u001b[49m\n\u001b[1;32m      8\u001b[0m \u001b[43m)\u001b[49m\n",
      "File \u001b[0;32m~/miniconda3/envs/env_name/lib/python3.10/site-packages/keras/src/utils/traceback_utils.py:117\u001b[0m, in \u001b[0;36mfilter_traceback.<locals>.error_handler\u001b[0;34m(*args, **kwargs)\u001b[0m\n\u001b[1;32m    115\u001b[0m filtered_tb \u001b[38;5;241m=\u001b[39m \u001b[38;5;28;01mNone\u001b[39;00m\n\u001b[1;32m    116\u001b[0m \u001b[38;5;28;01mtry\u001b[39;00m:\n\u001b[0;32m--> 117\u001b[0m     \u001b[38;5;28;01mreturn\u001b[39;00m \u001b[43mfn\u001b[49m\u001b[43m(\u001b[49m\u001b[38;5;241;43m*\u001b[39;49m\u001b[43margs\u001b[49m\u001b[43m,\u001b[49m\u001b[43m \u001b[49m\u001b[38;5;241;43m*\u001b[39;49m\u001b[38;5;241;43m*\u001b[39;49m\u001b[43mkwargs\u001b[49m\u001b[43m)\u001b[49m\n\u001b[1;32m    118\u001b[0m \u001b[38;5;28;01mexcept\u001b[39;00m \u001b[38;5;167;01mException\u001b[39;00m \u001b[38;5;28;01mas\u001b[39;00m e:\n\u001b[1;32m    119\u001b[0m     filtered_tb \u001b[38;5;241m=\u001b[39m _process_traceback_frames(e\u001b[38;5;241m.\u001b[39m__traceback__)\n",
      "File \u001b[0;32m~/miniconda3/envs/env_name/lib/python3.10/site-packages/keras/src/backend/tensorflow/trainer.py:377\u001b[0m, in \u001b[0;36mTensorFlowTrainer.fit\u001b[0;34m(self, x, y, batch_size, epochs, verbose, callbacks, validation_split, validation_data, shuffle, class_weight, sample_weight, initial_epoch, steps_per_epoch, validation_steps, validation_batch_size, validation_freq)\u001b[0m\n\u001b[1;32m    375\u001b[0m \u001b[38;5;28;01mfor\u001b[39;00m step, iterator \u001b[38;5;129;01min\u001b[39;00m epoch_iterator:\n\u001b[1;32m    376\u001b[0m     callbacks\u001b[38;5;241m.\u001b[39mon_train_batch_begin(step)\n\u001b[0;32m--> 377\u001b[0m     logs \u001b[38;5;241m=\u001b[39m \u001b[38;5;28;43mself\u001b[39;49m\u001b[38;5;241;43m.\u001b[39;49m\u001b[43mtrain_function\u001b[49m\u001b[43m(\u001b[49m\u001b[43miterator\u001b[49m\u001b[43m)\u001b[49m\n\u001b[1;32m    378\u001b[0m     callbacks\u001b[38;5;241m.\u001b[39mon_train_batch_end(step, logs)\n\u001b[1;32m    379\u001b[0m     \u001b[38;5;28;01mif\u001b[39;00m \u001b[38;5;28mself\u001b[39m\u001b[38;5;241m.\u001b[39mstop_training:\n",
      "File \u001b[0;32m~/miniconda3/envs/env_name/lib/python3.10/site-packages/keras/src/backend/tensorflow/trainer.py:220\u001b[0m, in \u001b[0;36mTensorFlowTrainer._make_function.<locals>.function\u001b[0;34m(iterator)\u001b[0m\n\u001b[1;32m    216\u001b[0m \u001b[38;5;28;01mdef\u001b[39;00m\u001b[38;5;250m \u001b[39m\u001b[38;5;21mfunction\u001b[39m(iterator):\n\u001b[1;32m    217\u001b[0m     \u001b[38;5;28;01mif\u001b[39;00m \u001b[38;5;28misinstance\u001b[39m(\n\u001b[1;32m    218\u001b[0m         iterator, (tf\u001b[38;5;241m.\u001b[39mdata\u001b[38;5;241m.\u001b[39mIterator, tf\u001b[38;5;241m.\u001b[39mdistribute\u001b[38;5;241m.\u001b[39mDistributedIterator)\n\u001b[1;32m    219\u001b[0m     ):\n\u001b[0;32m--> 220\u001b[0m         opt_outputs \u001b[38;5;241m=\u001b[39m \u001b[43mmulti_step_on_iterator\u001b[49m\u001b[43m(\u001b[49m\u001b[43miterator\u001b[49m\u001b[43m)\u001b[49m\n\u001b[1;32m    221\u001b[0m         \u001b[38;5;28;01mif\u001b[39;00m \u001b[38;5;129;01mnot\u001b[39;00m opt_outputs\u001b[38;5;241m.\u001b[39mhas_value():\n\u001b[1;32m    222\u001b[0m             \u001b[38;5;28;01mraise\u001b[39;00m \u001b[38;5;167;01mStopIteration\u001b[39;00m\n",
      "File \u001b[0;32m~/miniconda3/envs/env_name/lib/python3.10/site-packages/tensorflow/python/util/traceback_utils.py:150\u001b[0m, in \u001b[0;36mfilter_traceback.<locals>.error_handler\u001b[0;34m(*args, **kwargs)\u001b[0m\n\u001b[1;32m    148\u001b[0m filtered_tb \u001b[38;5;241m=\u001b[39m \u001b[38;5;28;01mNone\u001b[39;00m\n\u001b[1;32m    149\u001b[0m \u001b[38;5;28;01mtry\u001b[39;00m:\n\u001b[0;32m--> 150\u001b[0m   \u001b[38;5;28;01mreturn\u001b[39;00m \u001b[43mfn\u001b[49m\u001b[43m(\u001b[49m\u001b[38;5;241;43m*\u001b[39;49m\u001b[43margs\u001b[49m\u001b[43m,\u001b[49m\u001b[43m \u001b[49m\u001b[38;5;241;43m*\u001b[39;49m\u001b[38;5;241;43m*\u001b[39;49m\u001b[43mkwargs\u001b[49m\u001b[43m)\u001b[49m\n\u001b[1;32m    151\u001b[0m \u001b[38;5;28;01mexcept\u001b[39;00m \u001b[38;5;167;01mException\u001b[39;00m \u001b[38;5;28;01mas\u001b[39;00m e:\n\u001b[1;32m    152\u001b[0m   filtered_tb \u001b[38;5;241m=\u001b[39m _process_traceback_frames(e\u001b[38;5;241m.\u001b[39m__traceback__)\n",
      "File \u001b[0;32m~/miniconda3/envs/env_name/lib/python3.10/site-packages/tensorflow/python/eager/polymorphic_function/polymorphic_function.py:833\u001b[0m, in \u001b[0;36mFunction.__call__\u001b[0;34m(self, *args, **kwds)\u001b[0m\n\u001b[1;32m    830\u001b[0m compiler \u001b[38;5;241m=\u001b[39m \u001b[38;5;124m\"\u001b[39m\u001b[38;5;124mxla\u001b[39m\u001b[38;5;124m\"\u001b[39m \u001b[38;5;28;01mif\u001b[39;00m \u001b[38;5;28mself\u001b[39m\u001b[38;5;241m.\u001b[39m_jit_compile \u001b[38;5;28;01melse\u001b[39;00m \u001b[38;5;124m\"\u001b[39m\u001b[38;5;124mnonXla\u001b[39m\u001b[38;5;124m\"\u001b[39m\n\u001b[1;32m    832\u001b[0m \u001b[38;5;28;01mwith\u001b[39;00m OptionalXlaContext(\u001b[38;5;28mself\u001b[39m\u001b[38;5;241m.\u001b[39m_jit_compile):\n\u001b[0;32m--> 833\u001b[0m   result \u001b[38;5;241m=\u001b[39m \u001b[38;5;28;43mself\u001b[39;49m\u001b[38;5;241;43m.\u001b[39;49m\u001b[43m_call\u001b[49m\u001b[43m(\u001b[49m\u001b[38;5;241;43m*\u001b[39;49m\u001b[43margs\u001b[49m\u001b[43m,\u001b[49m\u001b[43m \u001b[49m\u001b[38;5;241;43m*\u001b[39;49m\u001b[38;5;241;43m*\u001b[39;49m\u001b[43mkwds\u001b[49m\u001b[43m)\u001b[49m\n\u001b[1;32m    835\u001b[0m new_tracing_count \u001b[38;5;241m=\u001b[39m \u001b[38;5;28mself\u001b[39m\u001b[38;5;241m.\u001b[39mexperimental_get_tracing_count()\n\u001b[1;32m    836\u001b[0m without_tracing \u001b[38;5;241m=\u001b[39m (tracing_count \u001b[38;5;241m==\u001b[39m new_tracing_count)\n",
      "File \u001b[0;32m~/miniconda3/envs/env_name/lib/python3.10/site-packages/tensorflow/python/eager/polymorphic_function/polymorphic_function.py:878\u001b[0m, in \u001b[0;36mFunction._call\u001b[0;34m(self, *args, **kwds)\u001b[0m\n\u001b[1;32m    875\u001b[0m \u001b[38;5;28mself\u001b[39m\u001b[38;5;241m.\u001b[39m_lock\u001b[38;5;241m.\u001b[39mrelease()\n\u001b[1;32m    876\u001b[0m \u001b[38;5;66;03m# In this case we have not created variables on the first call. So we can\u001b[39;00m\n\u001b[1;32m    877\u001b[0m \u001b[38;5;66;03m# run the first trace but we should fail if variables are created.\u001b[39;00m\n\u001b[0;32m--> 878\u001b[0m results \u001b[38;5;241m=\u001b[39m \u001b[43mtracing_compilation\u001b[49m\u001b[38;5;241;43m.\u001b[39;49m\u001b[43mcall_function\u001b[49m\u001b[43m(\u001b[49m\n\u001b[1;32m    879\u001b[0m \u001b[43m    \u001b[49m\u001b[43margs\u001b[49m\u001b[43m,\u001b[49m\u001b[43m \u001b[49m\u001b[43mkwds\u001b[49m\u001b[43m,\u001b[49m\u001b[43m \u001b[49m\u001b[38;5;28;43mself\u001b[39;49m\u001b[38;5;241;43m.\u001b[39;49m\u001b[43m_variable_creation_config\u001b[49m\n\u001b[1;32m    880\u001b[0m \u001b[43m\u001b[49m\u001b[43m)\u001b[49m\n\u001b[1;32m    881\u001b[0m \u001b[38;5;28;01mif\u001b[39;00m \u001b[38;5;28mself\u001b[39m\u001b[38;5;241m.\u001b[39m_created_variables:\n\u001b[1;32m    882\u001b[0m   \u001b[38;5;28;01mraise\u001b[39;00m \u001b[38;5;167;01mValueError\u001b[39;00m(\u001b[38;5;124m\"\u001b[39m\u001b[38;5;124mCreating variables on a non-first call to a function\u001b[39m\u001b[38;5;124m\"\u001b[39m\n\u001b[1;32m    883\u001b[0m                    \u001b[38;5;124m\"\u001b[39m\u001b[38;5;124m decorated with tf.function.\u001b[39m\u001b[38;5;124m\"\u001b[39m)\n",
      "File \u001b[0;32m~/miniconda3/envs/env_name/lib/python3.10/site-packages/tensorflow/python/eager/polymorphic_function/tracing_compilation.py:139\u001b[0m, in \u001b[0;36mcall_function\u001b[0;34m(args, kwargs, tracing_options)\u001b[0m\n\u001b[1;32m    137\u001b[0m bound_args \u001b[38;5;241m=\u001b[39m function\u001b[38;5;241m.\u001b[39mfunction_type\u001b[38;5;241m.\u001b[39mbind(\u001b[38;5;241m*\u001b[39margs, \u001b[38;5;241m*\u001b[39m\u001b[38;5;241m*\u001b[39mkwargs)\n\u001b[1;32m    138\u001b[0m flat_inputs \u001b[38;5;241m=\u001b[39m function\u001b[38;5;241m.\u001b[39mfunction_type\u001b[38;5;241m.\u001b[39munpack_inputs(bound_args)\n\u001b[0;32m--> 139\u001b[0m \u001b[38;5;28;01mreturn\u001b[39;00m \u001b[43mfunction\u001b[49m\u001b[38;5;241;43m.\u001b[39;49m\u001b[43m_call_flat\u001b[49m\u001b[43m(\u001b[49m\u001b[43m  \u001b[49m\u001b[38;5;66;43;03m# pylint: disable=protected-access\u001b[39;49;00m\n\u001b[1;32m    140\u001b[0m \u001b[43m    \u001b[49m\u001b[43mflat_inputs\u001b[49m\u001b[43m,\u001b[49m\u001b[43m \u001b[49m\u001b[43mcaptured_inputs\u001b[49m\u001b[38;5;241;43m=\u001b[39;49m\u001b[43mfunction\u001b[49m\u001b[38;5;241;43m.\u001b[39;49m\u001b[43mcaptured_inputs\u001b[49m\n\u001b[1;32m    141\u001b[0m \u001b[43m\u001b[49m\u001b[43m)\u001b[49m\n",
      "File \u001b[0;32m~/miniconda3/envs/env_name/lib/python3.10/site-packages/tensorflow/python/eager/polymorphic_function/concrete_function.py:1322\u001b[0m, in \u001b[0;36mConcreteFunction._call_flat\u001b[0;34m(self, tensor_inputs, captured_inputs)\u001b[0m\n\u001b[1;32m   1318\u001b[0m possible_gradient_type \u001b[38;5;241m=\u001b[39m gradients_util\u001b[38;5;241m.\u001b[39mPossibleTapeGradientTypes(args)\n\u001b[1;32m   1319\u001b[0m \u001b[38;5;28;01mif\u001b[39;00m (possible_gradient_type \u001b[38;5;241m==\u001b[39m gradients_util\u001b[38;5;241m.\u001b[39mPOSSIBLE_GRADIENT_TYPES_NONE\n\u001b[1;32m   1320\u001b[0m     \u001b[38;5;129;01mand\u001b[39;00m executing_eagerly):\n\u001b[1;32m   1321\u001b[0m   \u001b[38;5;66;03m# No tape is watching; skip to running the function.\u001b[39;00m\n\u001b[0;32m-> 1322\u001b[0m   \u001b[38;5;28;01mreturn\u001b[39;00m \u001b[38;5;28;43mself\u001b[39;49m\u001b[38;5;241;43m.\u001b[39;49m\u001b[43m_inference_function\u001b[49m\u001b[38;5;241;43m.\u001b[39;49m\u001b[43mcall_preflattened\u001b[49m\u001b[43m(\u001b[49m\u001b[43margs\u001b[49m\u001b[43m)\u001b[49m\n\u001b[1;32m   1323\u001b[0m forward_backward \u001b[38;5;241m=\u001b[39m \u001b[38;5;28mself\u001b[39m\u001b[38;5;241m.\u001b[39m_select_forward_and_backward_functions(\n\u001b[1;32m   1324\u001b[0m     args,\n\u001b[1;32m   1325\u001b[0m     possible_gradient_type,\n\u001b[1;32m   1326\u001b[0m     executing_eagerly)\n\u001b[1;32m   1327\u001b[0m forward_function, args_with_tangents \u001b[38;5;241m=\u001b[39m forward_backward\u001b[38;5;241m.\u001b[39mforward()\n",
      "File \u001b[0;32m~/miniconda3/envs/env_name/lib/python3.10/site-packages/tensorflow/python/eager/polymorphic_function/atomic_function.py:216\u001b[0m, in \u001b[0;36mAtomicFunction.call_preflattened\u001b[0;34m(self, args)\u001b[0m\n\u001b[1;32m    214\u001b[0m \u001b[38;5;28;01mdef\u001b[39;00m\u001b[38;5;250m \u001b[39m\u001b[38;5;21mcall_preflattened\u001b[39m(\u001b[38;5;28mself\u001b[39m, args: Sequence[core\u001b[38;5;241m.\u001b[39mTensor]) \u001b[38;5;241m-\u001b[39m\u001b[38;5;241m>\u001b[39m Any:\n\u001b[1;32m    215\u001b[0m \u001b[38;5;250m  \u001b[39m\u001b[38;5;124;03m\"\"\"Calls with flattened tensor inputs and returns the structured output.\"\"\"\u001b[39;00m\n\u001b[0;32m--> 216\u001b[0m   flat_outputs \u001b[38;5;241m=\u001b[39m \u001b[38;5;28;43mself\u001b[39;49m\u001b[38;5;241;43m.\u001b[39;49m\u001b[43mcall_flat\u001b[49m\u001b[43m(\u001b[49m\u001b[38;5;241;43m*\u001b[39;49m\u001b[43margs\u001b[49m\u001b[43m)\u001b[49m\n\u001b[1;32m    217\u001b[0m   \u001b[38;5;28;01mreturn\u001b[39;00m \u001b[38;5;28mself\u001b[39m\u001b[38;5;241m.\u001b[39mfunction_type\u001b[38;5;241m.\u001b[39mpack_output(flat_outputs)\n",
      "File \u001b[0;32m~/miniconda3/envs/env_name/lib/python3.10/site-packages/tensorflow/python/eager/polymorphic_function/atomic_function.py:251\u001b[0m, in \u001b[0;36mAtomicFunction.call_flat\u001b[0;34m(self, *args)\u001b[0m\n\u001b[1;32m    249\u001b[0m \u001b[38;5;28;01mwith\u001b[39;00m record\u001b[38;5;241m.\u001b[39mstop_recording():\n\u001b[1;32m    250\u001b[0m   \u001b[38;5;28;01mif\u001b[39;00m \u001b[38;5;28mself\u001b[39m\u001b[38;5;241m.\u001b[39m_bound_context\u001b[38;5;241m.\u001b[39mexecuting_eagerly():\n\u001b[0;32m--> 251\u001b[0m     outputs \u001b[38;5;241m=\u001b[39m \u001b[38;5;28;43mself\u001b[39;49m\u001b[38;5;241;43m.\u001b[39;49m\u001b[43m_bound_context\u001b[49m\u001b[38;5;241;43m.\u001b[39;49m\u001b[43mcall_function\u001b[49m\u001b[43m(\u001b[49m\n\u001b[1;32m    252\u001b[0m \u001b[43m        \u001b[49m\u001b[38;5;28;43mself\u001b[39;49m\u001b[38;5;241;43m.\u001b[39;49m\u001b[43mname\u001b[49m\u001b[43m,\u001b[49m\n\u001b[1;32m    253\u001b[0m \u001b[43m        \u001b[49m\u001b[38;5;28;43mlist\u001b[39;49m\u001b[43m(\u001b[49m\u001b[43margs\u001b[49m\u001b[43m)\u001b[49m\u001b[43m,\u001b[49m\n\u001b[1;32m    254\u001b[0m \u001b[43m        \u001b[49m\u001b[38;5;28;43mlen\u001b[39;49m\u001b[43m(\u001b[49m\u001b[38;5;28;43mself\u001b[39;49m\u001b[38;5;241;43m.\u001b[39;49m\u001b[43mfunction_type\u001b[49m\u001b[38;5;241;43m.\u001b[39;49m\u001b[43mflat_outputs\u001b[49m\u001b[43m)\u001b[49m\u001b[43m,\u001b[49m\n\u001b[1;32m    255\u001b[0m \u001b[43m    \u001b[49m\u001b[43m)\u001b[49m\n\u001b[1;32m    256\u001b[0m   \u001b[38;5;28;01melse\u001b[39;00m:\n\u001b[1;32m    257\u001b[0m     outputs \u001b[38;5;241m=\u001b[39m make_call_op_in_graph(\n\u001b[1;32m    258\u001b[0m         \u001b[38;5;28mself\u001b[39m,\n\u001b[1;32m    259\u001b[0m         \u001b[38;5;28mlist\u001b[39m(args),\n\u001b[1;32m    260\u001b[0m         \u001b[38;5;28mself\u001b[39m\u001b[38;5;241m.\u001b[39m_bound_context\u001b[38;5;241m.\u001b[39mfunction_call_options\u001b[38;5;241m.\u001b[39mas_attrs(),\n\u001b[1;32m    261\u001b[0m     )\n",
      "File \u001b[0;32m~/miniconda3/envs/env_name/lib/python3.10/site-packages/tensorflow/python/eager/context.py:1688\u001b[0m, in \u001b[0;36mContext.call_function\u001b[0;34m(self, name, tensor_inputs, num_outputs)\u001b[0m\n\u001b[1;32m   1686\u001b[0m cancellation_context \u001b[38;5;241m=\u001b[39m cancellation\u001b[38;5;241m.\u001b[39mcontext()\n\u001b[1;32m   1687\u001b[0m \u001b[38;5;28;01mif\u001b[39;00m cancellation_context \u001b[38;5;129;01mis\u001b[39;00m \u001b[38;5;28;01mNone\u001b[39;00m:\n\u001b[0;32m-> 1688\u001b[0m   outputs \u001b[38;5;241m=\u001b[39m \u001b[43mexecute\u001b[49m\u001b[38;5;241;43m.\u001b[39;49m\u001b[43mexecute\u001b[49m\u001b[43m(\u001b[49m\n\u001b[1;32m   1689\u001b[0m \u001b[43m      \u001b[49m\u001b[43mname\u001b[49m\u001b[38;5;241;43m.\u001b[39;49m\u001b[43mdecode\u001b[49m\u001b[43m(\u001b[49m\u001b[38;5;124;43m\"\u001b[39;49m\u001b[38;5;124;43mutf-8\u001b[39;49m\u001b[38;5;124;43m\"\u001b[39;49m\u001b[43m)\u001b[49m\u001b[43m,\u001b[49m\n\u001b[1;32m   1690\u001b[0m \u001b[43m      \u001b[49m\u001b[43mnum_outputs\u001b[49m\u001b[38;5;241;43m=\u001b[39;49m\u001b[43mnum_outputs\u001b[49m\u001b[43m,\u001b[49m\n\u001b[1;32m   1691\u001b[0m \u001b[43m      \u001b[49m\u001b[43minputs\u001b[49m\u001b[38;5;241;43m=\u001b[39;49m\u001b[43mtensor_inputs\u001b[49m\u001b[43m,\u001b[49m\n\u001b[1;32m   1692\u001b[0m \u001b[43m      \u001b[49m\u001b[43mattrs\u001b[49m\u001b[38;5;241;43m=\u001b[39;49m\u001b[43mattrs\u001b[49m\u001b[43m,\u001b[49m\n\u001b[1;32m   1693\u001b[0m \u001b[43m      \u001b[49m\u001b[43mctx\u001b[49m\u001b[38;5;241;43m=\u001b[39;49m\u001b[38;5;28;43mself\u001b[39;49m\u001b[43m,\u001b[49m\n\u001b[1;32m   1694\u001b[0m \u001b[43m  \u001b[49m\u001b[43m)\u001b[49m\n\u001b[1;32m   1695\u001b[0m \u001b[38;5;28;01melse\u001b[39;00m:\n\u001b[1;32m   1696\u001b[0m   outputs \u001b[38;5;241m=\u001b[39m execute\u001b[38;5;241m.\u001b[39mexecute_with_cancellation(\n\u001b[1;32m   1697\u001b[0m       name\u001b[38;5;241m.\u001b[39mdecode(\u001b[38;5;124m\"\u001b[39m\u001b[38;5;124mutf-8\u001b[39m\u001b[38;5;124m\"\u001b[39m),\n\u001b[1;32m   1698\u001b[0m       num_outputs\u001b[38;5;241m=\u001b[39mnum_outputs,\n\u001b[0;32m   (...)\u001b[0m\n\u001b[1;32m   1702\u001b[0m       cancellation_manager\u001b[38;5;241m=\u001b[39mcancellation_context,\n\u001b[1;32m   1703\u001b[0m   )\n",
      "File \u001b[0;32m~/miniconda3/envs/env_name/lib/python3.10/site-packages/tensorflow/python/eager/execute.py:53\u001b[0m, in \u001b[0;36mquick_execute\u001b[0;34m(op_name, num_outputs, inputs, attrs, ctx, name)\u001b[0m\n\u001b[1;32m     51\u001b[0m \u001b[38;5;28;01mtry\u001b[39;00m:\n\u001b[1;32m     52\u001b[0m   ctx\u001b[38;5;241m.\u001b[39mensure_initialized()\n\u001b[0;32m---> 53\u001b[0m   tensors \u001b[38;5;241m=\u001b[39m \u001b[43mpywrap_tfe\u001b[49m\u001b[38;5;241;43m.\u001b[39;49m\u001b[43mTFE_Py_Execute\u001b[49m\u001b[43m(\u001b[49m\u001b[43mctx\u001b[49m\u001b[38;5;241;43m.\u001b[39;49m\u001b[43m_handle\u001b[49m\u001b[43m,\u001b[49m\u001b[43m \u001b[49m\u001b[43mdevice_name\u001b[49m\u001b[43m,\u001b[49m\u001b[43m \u001b[49m\u001b[43mop_name\u001b[49m\u001b[43m,\u001b[49m\n\u001b[1;32m     54\u001b[0m \u001b[43m                                      \u001b[49m\u001b[43minputs\u001b[49m\u001b[43m,\u001b[49m\u001b[43m \u001b[49m\u001b[43mattrs\u001b[49m\u001b[43m,\u001b[49m\u001b[43m \u001b[49m\u001b[43mnum_outputs\u001b[49m\u001b[43m)\u001b[49m\n\u001b[1;32m     55\u001b[0m \u001b[38;5;28;01mexcept\u001b[39;00m core\u001b[38;5;241m.\u001b[39m_NotOkStatusException \u001b[38;5;28;01mas\u001b[39;00m e:\n\u001b[1;32m     56\u001b[0m   \u001b[38;5;28;01mif\u001b[39;00m name \u001b[38;5;129;01mis\u001b[39;00m \u001b[38;5;129;01mnot\u001b[39;00m \u001b[38;5;28;01mNone\u001b[39;00m:\n",
      "\u001b[0;31mKeyboardInterrupt\u001b[0m: "
     ]
    }
   ],
   "source": [
    "# Resume training from epoch 16\n",
    "model.fit(\n",
    "    train_ds,\n",
    "    validation_data=val_ds,\n",
    "    epochs=50,\n",
    "    initial_epoch=16,\n",
    "    callbacks=callbacks_list\n",
    ")"
   ]
  },
  {
   "cell_type": "code",
   "execution_count": 35,
   "id": "9ec6eda0-3029-477b-bf46-ebdb177aeade",
   "metadata": {},
   "outputs": [],
   "source": [
    "from tensorflow.keras.models import load_model\n",
    "from tensorflow.keras.optimizers import Adam\n",
    "from tensorflow.keras.callbacks import ModelCheckpoint, ReduceLROnPlateau, EarlyStopping\n",
    "from tensorflow.keras.saving import register_keras_serializable\n",
    "from tensorflow.keras import backend as K\n",
    "\n",
    "# Register CTC loss for deserialization\n",
    "@register_keras_serializable()\n",
    "def ctc_loss(args):\n",
    "    y_pred, labels, input_length, label_length = args\n",
    "    y_pred = y_pred[:, 2:, :]\n",
    "    return K.ctc_batch_cost(labels, y_pred, input_length, label_length)\n",
    "\n",
    "# Load full model\n",
    "model = load_model(\n",
    "    '/mnt/c/Users/abder/Downloads/models_input_updated/checkpoint_model_OCR.keras',\n",
    "    custom_objects={'ctc_loss': ctc_loss},\n",
    "    compile=False\n",
    ")\n",
    "\n",
    "\n",
    "# Freeze all layers first\n",
    "for layer in model.layers:\n",
    "    layer.trainable = True\n",
    "    \n",
    "# Compile model (you already correctly used dummy loss for Lambda)\n",
    "optimizer = Adam(learning_rate=1e-5, beta_1=0.9, beta_2=0.999, clipnorm=5)\n",
    "model.compile(loss={'ctc': lambda y_true, y_pred: y_pred}, optimizer=optimizer)\n",
    "\n",
    "# Set up callbacks (assuming EpochCleanupCallback is defined somewhere)\n",
    "callbacks_list = [\n",
    "    ModelCheckpoint(\n",
    "        filepath='/mnt/c/Users/abder/Downloads/models_input_updated/checkpoint_model_OCR_continue.keras',\n",
    "        verbose=1,\n",
    "        save_best_only=True\n",
    "    ),\n",
    "    ReduceLROnPlateau(\n",
    "        monitor='val_loss',\n",
    "        factor=0.5,\n",
    "        patience=3,\n",
    "        min_lr=1e-6,\n",
    "        verbose=1\n",
    "    ),\n",
    "    EarlyStopping(\n",
    "        monitor='val_loss',\n",
    "        patience=6,\n",
    "        restore_best_weights=True\n",
    "    ),\n",
    "    EpochCleanupCallback()\n",
    "]"
   ]
  },
  {
   "cell_type": "code",
   "execution_count": 35,
   "id": "5b76c3e8-ba45-4d0c-8c5a-f293b10a86f6",
   "metadata": {},
   "outputs": [
    {
     "name": "stdout",
     "output_type": "stream",
     "text": [
      "Epoch 27/50\n",
      "\u001b[1m364/364\u001b[0m \u001b[32m━━━━━━━━━━━━━━━━━━━━\u001b[0m\u001b[37m\u001b[0m \u001b[1m0s\u001b[0m 519ms/step - loss: 0.0263  \n",
      "Epoch 27: val_loss improved from inf to 1.28345, saving model to /mnt/c/Users/abder/Downloads/models_input_updated/checkpoint_model_OCR_continue.keras\n",
      "\u001b[1m364/364\u001b[0m \u001b[32m━━━━━━━━━━━━━━━━━━━━\u001b[0m\u001b[37m\u001b[0m \u001b[1m218s\u001b[0m 545ms/step - loss: 0.0263 - val_loss: 1.2834 - learning_rate: 1.0000e-05\n",
      "Epoch 28/50\n",
      "\u001b[1m364/364\u001b[0m \u001b[32m━━━━━━━━━━━━━━━━━━━━\u001b[0m\u001b[37m\u001b[0m \u001b[1m0s\u001b[0m 527ms/step - loss: 0.0241  \n",
      "Epoch 28: val_loss improved from 1.28345 to 1.27864, saving model to /mnt/c/Users/abder/Downloads/models_input_updated/checkpoint_model_OCR_continue.keras\n",
      "\u001b[1m364/364\u001b[0m \u001b[32m━━━━━━━━━━━━━━━━━━━━\u001b[0m\u001b[37m\u001b[0m \u001b[1m200s\u001b[0m 549ms/step - loss: 0.0241 - val_loss: 1.2786 - learning_rate: 1.0000e-05\n",
      "Epoch 29/50\n",
      "\u001b[1m364/364\u001b[0m \u001b[32m━━━━━━━━━━━━━━━━━━━━\u001b[0m\u001b[37m\u001b[0m \u001b[1m0s\u001b[0m 538ms/step - loss: 0.0239  \n",
      "Epoch 29: val_loss did not improve from 1.27864\n",
      "\u001b[1m364/364\u001b[0m \u001b[32m━━━━━━━━━━━━━━━━━━━━\u001b[0m\u001b[37m\u001b[0m \u001b[1m200s\u001b[0m 548ms/step - loss: 0.0239 - val_loss: 1.2847 - learning_rate: 1.0000e-05\n",
      "Epoch 30/50\n",
      "\u001b[1m364/364\u001b[0m \u001b[32m━━━━━━━━━━━━━━━━━━━━\u001b[0m\u001b[37m\u001b[0m \u001b[1m0s\u001b[0m 536ms/step - loss: 0.0216  \n",
      "Epoch 30: val_loss did not improve from 1.27864\n",
      "\u001b[1m364/364\u001b[0m \u001b[32m━━━━━━━━━━━━━━━━━━━━\u001b[0m\u001b[37m\u001b[0m \u001b[1m199s\u001b[0m 546ms/step - loss: 0.0216 - val_loss: 1.2923 - learning_rate: 1.0000e-05\n",
      "Epoch 31/50\n",
      "\u001b[1m364/364\u001b[0m \u001b[32m━━━━━━━━━━━━━━━━━━━━\u001b[0m\u001b[37m\u001b[0m \u001b[1m0s\u001b[0m 543ms/step - loss: 0.0218  \n",
      "Epoch 31: val_loss did not improve from 1.27864\n",
      "\n",
      "Epoch 31: ReduceLROnPlateau reducing learning rate to 4.999999873689376e-06.\n",
      "\u001b[1m364/364\u001b[0m \u001b[32m━━━━━━━━━━━━━━━━━━━━\u001b[0m\u001b[37m\u001b[0m \u001b[1m201s\u001b[0m 552ms/step - loss: 0.0218 - val_loss: 1.2957 - learning_rate: 1.0000e-05\n",
      "Epoch 32/50\n",
      "\u001b[1m364/364\u001b[0m \u001b[32m━━━━━━━━━━━━━━━━━━━━\u001b[0m\u001b[37m\u001b[0m \u001b[1m0s\u001b[0m 537ms/step - loss: 0.0203  \n",
      "Epoch 32: val_loss did not improve from 1.27864\n",
      "\u001b[1m364/364\u001b[0m \u001b[32m━━━━━━━━━━━━━━━━━━━━\u001b[0m\u001b[37m\u001b[0m \u001b[1m202s\u001b[0m 553ms/step - loss: 0.0203 - val_loss: 1.2939 - learning_rate: 5.0000e-06\n",
      "Epoch 33/50\n",
      "\u001b[1m364/364\u001b[0m \u001b[32m━━━━━━━━━━━━━━━━━━━━\u001b[0m\u001b[37m\u001b[0m \u001b[1m0s\u001b[0m 546ms/step - loss: 0.0199  \n",
      "Epoch 33: val_loss did not improve from 1.27864\n",
      "\u001b[1m364/364\u001b[0m \u001b[32m━━━━━━━━━━━━━━━━━━━━\u001b[0m\u001b[37m\u001b[0m \u001b[1m202s\u001b[0m 556ms/step - loss: 0.0199 - val_loss: 1.2925 - learning_rate: 5.0000e-06\n",
      "Epoch 34/50\n",
      "\u001b[1m364/364\u001b[0m \u001b[32m━━━━━━━━━━━━━━━━━━━━\u001b[0m\u001b[37m\u001b[0m \u001b[1m0s\u001b[0m 549ms/step - loss: 0.0175  \n",
      "Epoch 34: val_loss did not improve from 1.27864\n",
      "\n",
      "Epoch 34: ReduceLROnPlateau reducing learning rate to 2.499999936844688e-06.\n",
      "\u001b[1m364/364\u001b[0m \u001b[32m━━━━━━━━━━━━━━━━━━━━\u001b[0m\u001b[37m\u001b[0m \u001b[1m203s\u001b[0m 559ms/step - loss: 0.0175 - val_loss: 1.2996 - learning_rate: 5.0000e-06\n"
     ]
    },
    {
     "data": {
      "text/plain": [
       "<keras.src.callbacks.history.History at 0x7fcc466e74f0>"
      ]
     },
     "execution_count": 35,
     "metadata": {},
     "output_type": "execute_result"
    }
   ],
   "source": [
    "# Resume training from epoch 16\n",
    "model.fit(\n",
    "    train_ds,\n",
    "    validation_data=val_ds,\n",
    "    epochs=50,\n",
    "    initial_epoch=26,\n",
    "    callbacks=callbacks_list\n",
    ")"
   ]
  },
  {
   "cell_type": "code",
   "execution_count": 36,
   "id": "3711bc92-9ed2-44bb-a7d9-d7de413304b4",
   "metadata": {},
   "outputs": [],
   "source": [
    "from tensorflow.keras.models import load_model\n",
    "from tensorflow.keras.optimizers import Adam\n",
    "from tensorflow.keras.callbacks import ModelCheckpoint, ReduceLROnPlateau, EarlyStopping\n",
    "from tensorflow.keras.saving import register_keras_serializable\n",
    "from tensorflow.keras import backend as K\n",
    "\n",
    "# Register CTC loss for deserialization\n",
    "@register_keras_serializable()\n",
    "def ctc_loss(args):\n",
    "    y_pred, labels, input_length, label_length = args\n",
    "    y_pred = y_pred[:, 2:, :]\n",
    "    return K.ctc_batch_cost(labels, y_pred, input_length, label_length)\n",
    "\n",
    "# Load full model\n",
    "model = load_model(\n",
    "    '/mnt/c/Users/abder/Downloads/models_input_updated/checkpoint_model_OCR_continue.keras',\n",
    "    custom_objects={'ctc_loss': ctc_loss},\n",
    "    compile=False\n",
    ")\n",
    "\n",
    "\n",
    "# Freeze all layers first\n",
    "for layer in model.layers:\n",
    "    layer.trainable = True\n",
    "    \n",
    "# Compile model (you already correctly used dummy loss for Lambda)\n",
    "optimizer = Adam(learning_rate=1e-6, beta_1=0.9, beta_2=0.999, clipnorm=5)\n",
    "model.compile(loss={'ctc': lambda y_true, y_pred: y_pred}, optimizer=optimizer)\n",
    "\n",
    "# Set up callbacks (assuming EpochCleanupCallback is defined somewhere)\n",
    "callbacks_list = [\n",
    "    ModelCheckpoint(\n",
    "        filepath='/mnt/c/Users/abder/Downloads/models_input_updated/checkpoint_model_OCR_continue_cont.keras',\n",
    "        verbose=1,\n",
    "        save_best_only=True\n",
    "    ),\n",
    "    ReduceLROnPlateau(\n",
    "        monitor='val_loss',\n",
    "        factor=0.5,\n",
    "        patience=3,\n",
    "        min_lr=1e-8,\n",
    "        verbose=1\n",
    "    ),\n",
    "    EarlyStopping(\n",
    "        monitor='val_loss',\n",
    "        patience=7,\n",
    "        restore_best_weights=True\n",
    "    ),\n",
    "    EpochCleanupCallback()\n",
    "]"
   ]
  },
  {
   "cell_type": "code",
   "execution_count": 37,
   "id": "b7fdeab5-2894-4fcf-9594-5d0c21b5e12c",
   "metadata": {},
   "outputs": [
    {
     "name": "stdout",
     "output_type": "stream",
     "text": [
      "Epoch 27/50\n"
     ]
    },
    {
     "name": "stderr",
     "output_type": "stream",
     "text": [
      "I0000 00:00:1750031281.230440    6104 cuda_dnn.cc:529] Loaded cuDNN version 90300\n"
     ]
    },
    {
     "name": "stdout",
     "output_type": "stream",
     "text": [
      "\u001b[1m364/364\u001b[0m \u001b[32m━━━━━━━━━━━━━━━━━━━━\u001b[0m\u001b[37m\u001b[0m \u001b[1m0s\u001b[0m 553ms/step - loss: 0.0236  \n",
      "Epoch 27: val_loss improved from inf to 1.27720, saving model to /mnt/c/Users/abder/Downloads/models_input_updated/checkpoint_model_OCR_continue_cont.keras\n",
      "\u001b[1m364/364\u001b[0m \u001b[32m━━━━━━━━━━━━━━━━━━━━\u001b[0m\u001b[37m\u001b[0m \u001b[1m236s\u001b[0m 580ms/step - loss: 0.0236 - val_loss: 1.2772 - learning_rate: 1.0000e-06\n",
      "Epoch 28/50\n",
      "\u001b[1m364/364\u001b[0m \u001b[32m━━━━━━━━━━━━━━━━━━━━\u001b[0m\u001b[37m\u001b[0m \u001b[1m0s\u001b[0m 568ms/step - loss: 0.0209  \n",
      "Epoch 28: val_loss did not improve from 1.27720\n",
      "\u001b[1m364/364\u001b[0m \u001b[32m━━━━━━━━━━━━━━━━━━━━\u001b[0m\u001b[37m\u001b[0m \u001b[1m210s\u001b[0m 576ms/step - loss: 0.0209 - val_loss: 1.2785 - learning_rate: 1.0000e-06\n",
      "Epoch 29/50\n",
      "\u001b[1m364/364\u001b[0m \u001b[32m━━━━━━━━━━━━━━━━━━━━\u001b[0m\u001b[37m\u001b[0m \u001b[1m0s\u001b[0m 585ms/step - loss: 0.0238  \n",
      "Epoch 29: val_loss did not improve from 1.27720\n",
      "\u001b[1m364/364\u001b[0m \u001b[32m━━━━━━━━━━━━━━━━━━━━\u001b[0m\u001b[37m\u001b[0m \u001b[1m217s\u001b[0m 595ms/step - loss: 0.0238 - val_loss: 1.2792 - learning_rate: 1.0000e-06\n",
      "Epoch 30/50\n",
      "\u001b[1m337/364\u001b[0m \u001b[32m━━━━━━━━━━━━━━━━━━\u001b[0m\u001b[37m━━\u001b[0m \u001b[1m20s\u001b[0m 768ms/step - loss: 0.0214 "
     ]
    },
    {
     "ename": "KeyboardInterrupt",
     "evalue": "",
     "output_type": "error",
     "traceback": [
      "\u001b[0;31m---------------------------------------------------------------------------\u001b[0m",
      "\u001b[0;31mKeyboardInterrupt\u001b[0m                         Traceback (most recent call last)",
      "Cell \u001b[0;32mIn[37], line 2\u001b[0m\n\u001b[1;32m      1\u001b[0m \u001b[38;5;66;03m# Resume training from epoch 16\u001b[39;00m\n\u001b[0;32m----> 2\u001b[0m \u001b[43mmodel\u001b[49m\u001b[38;5;241;43m.\u001b[39;49m\u001b[43mfit\u001b[49m\u001b[43m(\u001b[49m\n\u001b[1;32m      3\u001b[0m \u001b[43m    \u001b[49m\u001b[43mtrain_ds\u001b[49m\u001b[43m,\u001b[49m\n\u001b[1;32m      4\u001b[0m \u001b[43m    \u001b[49m\u001b[43mvalidation_data\u001b[49m\u001b[38;5;241;43m=\u001b[39;49m\u001b[43mval_ds\u001b[49m\u001b[43m,\u001b[49m\n\u001b[1;32m      5\u001b[0m \u001b[43m    \u001b[49m\u001b[43mepochs\u001b[49m\u001b[38;5;241;43m=\u001b[39;49m\u001b[38;5;241;43m50\u001b[39;49m\u001b[43m,\u001b[49m\n\u001b[1;32m      6\u001b[0m \u001b[43m    \u001b[49m\u001b[43minitial_epoch\u001b[49m\u001b[38;5;241;43m=\u001b[39;49m\u001b[38;5;241;43m26\u001b[39;49m\u001b[43m,\u001b[49m\n\u001b[1;32m      7\u001b[0m \u001b[43m    \u001b[49m\u001b[43mcallbacks\u001b[49m\u001b[38;5;241;43m=\u001b[39;49m\u001b[43mcallbacks_list\u001b[49m\n\u001b[1;32m      8\u001b[0m \u001b[43m)\u001b[49m\n",
      "File \u001b[0;32m~/miniconda3/envs/env_name/lib/python3.10/site-packages/keras/src/utils/traceback_utils.py:117\u001b[0m, in \u001b[0;36mfilter_traceback.<locals>.error_handler\u001b[0;34m(*args, **kwargs)\u001b[0m\n\u001b[1;32m    115\u001b[0m filtered_tb \u001b[38;5;241m=\u001b[39m \u001b[38;5;28;01mNone\u001b[39;00m\n\u001b[1;32m    116\u001b[0m \u001b[38;5;28;01mtry\u001b[39;00m:\n\u001b[0;32m--> 117\u001b[0m     \u001b[38;5;28;01mreturn\u001b[39;00m \u001b[43mfn\u001b[49m\u001b[43m(\u001b[49m\u001b[38;5;241;43m*\u001b[39;49m\u001b[43margs\u001b[49m\u001b[43m,\u001b[49m\u001b[43m \u001b[49m\u001b[38;5;241;43m*\u001b[39;49m\u001b[38;5;241;43m*\u001b[39;49m\u001b[43mkwargs\u001b[49m\u001b[43m)\u001b[49m\n\u001b[1;32m    118\u001b[0m \u001b[38;5;28;01mexcept\u001b[39;00m \u001b[38;5;167;01mException\u001b[39;00m \u001b[38;5;28;01mas\u001b[39;00m e:\n\u001b[1;32m    119\u001b[0m     filtered_tb \u001b[38;5;241m=\u001b[39m _process_traceback_frames(e\u001b[38;5;241m.\u001b[39m__traceback__)\n",
      "File \u001b[0;32m~/miniconda3/envs/env_name/lib/python3.10/site-packages/keras/src/backend/tensorflow/trainer.py:377\u001b[0m, in \u001b[0;36mTensorFlowTrainer.fit\u001b[0;34m(self, x, y, batch_size, epochs, verbose, callbacks, validation_split, validation_data, shuffle, class_weight, sample_weight, initial_epoch, steps_per_epoch, validation_steps, validation_batch_size, validation_freq)\u001b[0m\n\u001b[1;32m    375\u001b[0m \u001b[38;5;28;01mfor\u001b[39;00m step, iterator \u001b[38;5;129;01min\u001b[39;00m epoch_iterator:\n\u001b[1;32m    376\u001b[0m     callbacks\u001b[38;5;241m.\u001b[39mon_train_batch_begin(step)\n\u001b[0;32m--> 377\u001b[0m     logs \u001b[38;5;241m=\u001b[39m \u001b[38;5;28;43mself\u001b[39;49m\u001b[38;5;241;43m.\u001b[39;49m\u001b[43mtrain_function\u001b[49m\u001b[43m(\u001b[49m\u001b[43miterator\u001b[49m\u001b[43m)\u001b[49m\n\u001b[1;32m    378\u001b[0m     callbacks\u001b[38;5;241m.\u001b[39mon_train_batch_end(step, logs)\n\u001b[1;32m    379\u001b[0m     \u001b[38;5;28;01mif\u001b[39;00m \u001b[38;5;28mself\u001b[39m\u001b[38;5;241m.\u001b[39mstop_training:\n",
      "File \u001b[0;32m~/miniconda3/envs/env_name/lib/python3.10/site-packages/keras/src/backend/tensorflow/trainer.py:220\u001b[0m, in \u001b[0;36mTensorFlowTrainer._make_function.<locals>.function\u001b[0;34m(iterator)\u001b[0m\n\u001b[1;32m    216\u001b[0m \u001b[38;5;28;01mdef\u001b[39;00m\u001b[38;5;250m \u001b[39m\u001b[38;5;21mfunction\u001b[39m(iterator):\n\u001b[1;32m    217\u001b[0m     \u001b[38;5;28;01mif\u001b[39;00m \u001b[38;5;28misinstance\u001b[39m(\n\u001b[1;32m    218\u001b[0m         iterator, (tf\u001b[38;5;241m.\u001b[39mdata\u001b[38;5;241m.\u001b[39mIterator, tf\u001b[38;5;241m.\u001b[39mdistribute\u001b[38;5;241m.\u001b[39mDistributedIterator)\n\u001b[1;32m    219\u001b[0m     ):\n\u001b[0;32m--> 220\u001b[0m         opt_outputs \u001b[38;5;241m=\u001b[39m \u001b[43mmulti_step_on_iterator\u001b[49m\u001b[43m(\u001b[49m\u001b[43miterator\u001b[49m\u001b[43m)\u001b[49m\n\u001b[1;32m    221\u001b[0m         \u001b[38;5;28;01mif\u001b[39;00m \u001b[38;5;129;01mnot\u001b[39;00m opt_outputs\u001b[38;5;241m.\u001b[39mhas_value():\n\u001b[1;32m    222\u001b[0m             \u001b[38;5;28;01mraise\u001b[39;00m \u001b[38;5;167;01mStopIteration\u001b[39;00m\n",
      "File \u001b[0;32m~/miniconda3/envs/env_name/lib/python3.10/site-packages/tensorflow/python/util/traceback_utils.py:150\u001b[0m, in \u001b[0;36mfilter_traceback.<locals>.error_handler\u001b[0;34m(*args, **kwargs)\u001b[0m\n\u001b[1;32m    148\u001b[0m filtered_tb \u001b[38;5;241m=\u001b[39m \u001b[38;5;28;01mNone\u001b[39;00m\n\u001b[1;32m    149\u001b[0m \u001b[38;5;28;01mtry\u001b[39;00m:\n\u001b[0;32m--> 150\u001b[0m   \u001b[38;5;28;01mreturn\u001b[39;00m \u001b[43mfn\u001b[49m\u001b[43m(\u001b[49m\u001b[38;5;241;43m*\u001b[39;49m\u001b[43margs\u001b[49m\u001b[43m,\u001b[49m\u001b[43m \u001b[49m\u001b[38;5;241;43m*\u001b[39;49m\u001b[38;5;241;43m*\u001b[39;49m\u001b[43mkwargs\u001b[49m\u001b[43m)\u001b[49m\n\u001b[1;32m    151\u001b[0m \u001b[38;5;28;01mexcept\u001b[39;00m \u001b[38;5;167;01mException\u001b[39;00m \u001b[38;5;28;01mas\u001b[39;00m e:\n\u001b[1;32m    152\u001b[0m   filtered_tb \u001b[38;5;241m=\u001b[39m _process_traceback_frames(e\u001b[38;5;241m.\u001b[39m__traceback__)\n",
      "File \u001b[0;32m~/miniconda3/envs/env_name/lib/python3.10/site-packages/tensorflow/python/eager/polymorphic_function/polymorphic_function.py:833\u001b[0m, in \u001b[0;36mFunction.__call__\u001b[0;34m(self, *args, **kwds)\u001b[0m\n\u001b[1;32m    830\u001b[0m compiler \u001b[38;5;241m=\u001b[39m \u001b[38;5;124m\"\u001b[39m\u001b[38;5;124mxla\u001b[39m\u001b[38;5;124m\"\u001b[39m \u001b[38;5;28;01mif\u001b[39;00m \u001b[38;5;28mself\u001b[39m\u001b[38;5;241m.\u001b[39m_jit_compile \u001b[38;5;28;01melse\u001b[39;00m \u001b[38;5;124m\"\u001b[39m\u001b[38;5;124mnonXla\u001b[39m\u001b[38;5;124m\"\u001b[39m\n\u001b[1;32m    832\u001b[0m \u001b[38;5;28;01mwith\u001b[39;00m OptionalXlaContext(\u001b[38;5;28mself\u001b[39m\u001b[38;5;241m.\u001b[39m_jit_compile):\n\u001b[0;32m--> 833\u001b[0m   result \u001b[38;5;241m=\u001b[39m \u001b[38;5;28;43mself\u001b[39;49m\u001b[38;5;241;43m.\u001b[39;49m\u001b[43m_call\u001b[49m\u001b[43m(\u001b[49m\u001b[38;5;241;43m*\u001b[39;49m\u001b[43margs\u001b[49m\u001b[43m,\u001b[49m\u001b[43m \u001b[49m\u001b[38;5;241;43m*\u001b[39;49m\u001b[38;5;241;43m*\u001b[39;49m\u001b[43mkwds\u001b[49m\u001b[43m)\u001b[49m\n\u001b[1;32m    835\u001b[0m new_tracing_count \u001b[38;5;241m=\u001b[39m \u001b[38;5;28mself\u001b[39m\u001b[38;5;241m.\u001b[39mexperimental_get_tracing_count()\n\u001b[1;32m    836\u001b[0m without_tracing \u001b[38;5;241m=\u001b[39m (tracing_count \u001b[38;5;241m==\u001b[39m new_tracing_count)\n",
      "File \u001b[0;32m~/miniconda3/envs/env_name/lib/python3.10/site-packages/tensorflow/python/eager/polymorphic_function/polymorphic_function.py:878\u001b[0m, in \u001b[0;36mFunction._call\u001b[0;34m(self, *args, **kwds)\u001b[0m\n\u001b[1;32m    875\u001b[0m \u001b[38;5;28mself\u001b[39m\u001b[38;5;241m.\u001b[39m_lock\u001b[38;5;241m.\u001b[39mrelease()\n\u001b[1;32m    876\u001b[0m \u001b[38;5;66;03m# In this case we have not created variables on the first call. So we can\u001b[39;00m\n\u001b[1;32m    877\u001b[0m \u001b[38;5;66;03m# run the first trace but we should fail if variables are created.\u001b[39;00m\n\u001b[0;32m--> 878\u001b[0m results \u001b[38;5;241m=\u001b[39m \u001b[43mtracing_compilation\u001b[49m\u001b[38;5;241;43m.\u001b[39;49m\u001b[43mcall_function\u001b[49m\u001b[43m(\u001b[49m\n\u001b[1;32m    879\u001b[0m \u001b[43m    \u001b[49m\u001b[43margs\u001b[49m\u001b[43m,\u001b[49m\u001b[43m \u001b[49m\u001b[43mkwds\u001b[49m\u001b[43m,\u001b[49m\u001b[43m \u001b[49m\u001b[38;5;28;43mself\u001b[39;49m\u001b[38;5;241;43m.\u001b[39;49m\u001b[43m_variable_creation_config\u001b[49m\n\u001b[1;32m    880\u001b[0m \u001b[43m\u001b[49m\u001b[43m)\u001b[49m\n\u001b[1;32m    881\u001b[0m \u001b[38;5;28;01mif\u001b[39;00m \u001b[38;5;28mself\u001b[39m\u001b[38;5;241m.\u001b[39m_created_variables:\n\u001b[1;32m    882\u001b[0m   \u001b[38;5;28;01mraise\u001b[39;00m \u001b[38;5;167;01mValueError\u001b[39;00m(\u001b[38;5;124m\"\u001b[39m\u001b[38;5;124mCreating variables on a non-first call to a function\u001b[39m\u001b[38;5;124m\"\u001b[39m\n\u001b[1;32m    883\u001b[0m                    \u001b[38;5;124m\"\u001b[39m\u001b[38;5;124m decorated with tf.function.\u001b[39m\u001b[38;5;124m\"\u001b[39m)\n",
      "File \u001b[0;32m~/miniconda3/envs/env_name/lib/python3.10/site-packages/tensorflow/python/eager/polymorphic_function/tracing_compilation.py:139\u001b[0m, in \u001b[0;36mcall_function\u001b[0;34m(args, kwargs, tracing_options)\u001b[0m\n\u001b[1;32m    137\u001b[0m bound_args \u001b[38;5;241m=\u001b[39m function\u001b[38;5;241m.\u001b[39mfunction_type\u001b[38;5;241m.\u001b[39mbind(\u001b[38;5;241m*\u001b[39margs, \u001b[38;5;241m*\u001b[39m\u001b[38;5;241m*\u001b[39mkwargs)\n\u001b[1;32m    138\u001b[0m flat_inputs \u001b[38;5;241m=\u001b[39m function\u001b[38;5;241m.\u001b[39mfunction_type\u001b[38;5;241m.\u001b[39munpack_inputs(bound_args)\n\u001b[0;32m--> 139\u001b[0m \u001b[38;5;28;01mreturn\u001b[39;00m \u001b[43mfunction\u001b[49m\u001b[38;5;241;43m.\u001b[39;49m\u001b[43m_call_flat\u001b[49m\u001b[43m(\u001b[49m\u001b[43m  \u001b[49m\u001b[38;5;66;43;03m# pylint: disable=protected-access\u001b[39;49;00m\n\u001b[1;32m    140\u001b[0m \u001b[43m    \u001b[49m\u001b[43mflat_inputs\u001b[49m\u001b[43m,\u001b[49m\u001b[43m \u001b[49m\u001b[43mcaptured_inputs\u001b[49m\u001b[38;5;241;43m=\u001b[39;49m\u001b[43mfunction\u001b[49m\u001b[38;5;241;43m.\u001b[39;49m\u001b[43mcaptured_inputs\u001b[49m\n\u001b[1;32m    141\u001b[0m \u001b[43m\u001b[49m\u001b[43m)\u001b[49m\n",
      "File \u001b[0;32m~/miniconda3/envs/env_name/lib/python3.10/site-packages/tensorflow/python/eager/polymorphic_function/concrete_function.py:1322\u001b[0m, in \u001b[0;36mConcreteFunction._call_flat\u001b[0;34m(self, tensor_inputs, captured_inputs)\u001b[0m\n\u001b[1;32m   1318\u001b[0m possible_gradient_type \u001b[38;5;241m=\u001b[39m gradients_util\u001b[38;5;241m.\u001b[39mPossibleTapeGradientTypes(args)\n\u001b[1;32m   1319\u001b[0m \u001b[38;5;28;01mif\u001b[39;00m (possible_gradient_type \u001b[38;5;241m==\u001b[39m gradients_util\u001b[38;5;241m.\u001b[39mPOSSIBLE_GRADIENT_TYPES_NONE\n\u001b[1;32m   1320\u001b[0m     \u001b[38;5;129;01mand\u001b[39;00m executing_eagerly):\n\u001b[1;32m   1321\u001b[0m   \u001b[38;5;66;03m# No tape is watching; skip to running the function.\u001b[39;00m\n\u001b[0;32m-> 1322\u001b[0m   \u001b[38;5;28;01mreturn\u001b[39;00m \u001b[38;5;28;43mself\u001b[39;49m\u001b[38;5;241;43m.\u001b[39;49m\u001b[43m_inference_function\u001b[49m\u001b[38;5;241;43m.\u001b[39;49m\u001b[43mcall_preflattened\u001b[49m\u001b[43m(\u001b[49m\u001b[43margs\u001b[49m\u001b[43m)\u001b[49m\n\u001b[1;32m   1323\u001b[0m forward_backward \u001b[38;5;241m=\u001b[39m \u001b[38;5;28mself\u001b[39m\u001b[38;5;241m.\u001b[39m_select_forward_and_backward_functions(\n\u001b[1;32m   1324\u001b[0m     args,\n\u001b[1;32m   1325\u001b[0m     possible_gradient_type,\n\u001b[1;32m   1326\u001b[0m     executing_eagerly)\n\u001b[1;32m   1327\u001b[0m forward_function, args_with_tangents \u001b[38;5;241m=\u001b[39m forward_backward\u001b[38;5;241m.\u001b[39mforward()\n",
      "File \u001b[0;32m~/miniconda3/envs/env_name/lib/python3.10/site-packages/tensorflow/python/eager/polymorphic_function/atomic_function.py:216\u001b[0m, in \u001b[0;36mAtomicFunction.call_preflattened\u001b[0;34m(self, args)\u001b[0m\n\u001b[1;32m    214\u001b[0m \u001b[38;5;28;01mdef\u001b[39;00m\u001b[38;5;250m \u001b[39m\u001b[38;5;21mcall_preflattened\u001b[39m(\u001b[38;5;28mself\u001b[39m, args: Sequence[core\u001b[38;5;241m.\u001b[39mTensor]) \u001b[38;5;241m-\u001b[39m\u001b[38;5;241m>\u001b[39m Any:\n\u001b[1;32m    215\u001b[0m \u001b[38;5;250m  \u001b[39m\u001b[38;5;124;03m\"\"\"Calls with flattened tensor inputs and returns the structured output.\"\"\"\u001b[39;00m\n\u001b[0;32m--> 216\u001b[0m   flat_outputs \u001b[38;5;241m=\u001b[39m \u001b[38;5;28;43mself\u001b[39;49m\u001b[38;5;241;43m.\u001b[39;49m\u001b[43mcall_flat\u001b[49m\u001b[43m(\u001b[49m\u001b[38;5;241;43m*\u001b[39;49m\u001b[43margs\u001b[49m\u001b[43m)\u001b[49m\n\u001b[1;32m    217\u001b[0m   \u001b[38;5;28;01mreturn\u001b[39;00m \u001b[38;5;28mself\u001b[39m\u001b[38;5;241m.\u001b[39mfunction_type\u001b[38;5;241m.\u001b[39mpack_output(flat_outputs)\n",
      "File \u001b[0;32m~/miniconda3/envs/env_name/lib/python3.10/site-packages/tensorflow/python/eager/polymorphic_function/atomic_function.py:251\u001b[0m, in \u001b[0;36mAtomicFunction.call_flat\u001b[0;34m(self, *args)\u001b[0m\n\u001b[1;32m    249\u001b[0m \u001b[38;5;28;01mwith\u001b[39;00m record\u001b[38;5;241m.\u001b[39mstop_recording():\n\u001b[1;32m    250\u001b[0m   \u001b[38;5;28;01mif\u001b[39;00m \u001b[38;5;28mself\u001b[39m\u001b[38;5;241m.\u001b[39m_bound_context\u001b[38;5;241m.\u001b[39mexecuting_eagerly():\n\u001b[0;32m--> 251\u001b[0m     outputs \u001b[38;5;241m=\u001b[39m \u001b[38;5;28;43mself\u001b[39;49m\u001b[38;5;241;43m.\u001b[39;49m\u001b[43m_bound_context\u001b[49m\u001b[38;5;241;43m.\u001b[39;49m\u001b[43mcall_function\u001b[49m\u001b[43m(\u001b[49m\n\u001b[1;32m    252\u001b[0m \u001b[43m        \u001b[49m\u001b[38;5;28;43mself\u001b[39;49m\u001b[38;5;241;43m.\u001b[39;49m\u001b[43mname\u001b[49m\u001b[43m,\u001b[49m\n\u001b[1;32m    253\u001b[0m \u001b[43m        \u001b[49m\u001b[38;5;28;43mlist\u001b[39;49m\u001b[43m(\u001b[49m\u001b[43margs\u001b[49m\u001b[43m)\u001b[49m\u001b[43m,\u001b[49m\n\u001b[1;32m    254\u001b[0m \u001b[43m        \u001b[49m\u001b[38;5;28;43mlen\u001b[39;49m\u001b[43m(\u001b[49m\u001b[38;5;28;43mself\u001b[39;49m\u001b[38;5;241;43m.\u001b[39;49m\u001b[43mfunction_type\u001b[49m\u001b[38;5;241;43m.\u001b[39;49m\u001b[43mflat_outputs\u001b[49m\u001b[43m)\u001b[49m\u001b[43m,\u001b[49m\n\u001b[1;32m    255\u001b[0m \u001b[43m    \u001b[49m\u001b[43m)\u001b[49m\n\u001b[1;32m    256\u001b[0m   \u001b[38;5;28;01melse\u001b[39;00m:\n\u001b[1;32m    257\u001b[0m     outputs \u001b[38;5;241m=\u001b[39m make_call_op_in_graph(\n\u001b[1;32m    258\u001b[0m         \u001b[38;5;28mself\u001b[39m,\n\u001b[1;32m    259\u001b[0m         \u001b[38;5;28mlist\u001b[39m(args),\n\u001b[1;32m    260\u001b[0m         \u001b[38;5;28mself\u001b[39m\u001b[38;5;241m.\u001b[39m_bound_context\u001b[38;5;241m.\u001b[39mfunction_call_options\u001b[38;5;241m.\u001b[39mas_attrs(),\n\u001b[1;32m    261\u001b[0m     )\n",
      "File \u001b[0;32m~/miniconda3/envs/env_name/lib/python3.10/site-packages/tensorflow/python/eager/context.py:1688\u001b[0m, in \u001b[0;36mContext.call_function\u001b[0;34m(self, name, tensor_inputs, num_outputs)\u001b[0m\n\u001b[1;32m   1686\u001b[0m cancellation_context \u001b[38;5;241m=\u001b[39m cancellation\u001b[38;5;241m.\u001b[39mcontext()\n\u001b[1;32m   1687\u001b[0m \u001b[38;5;28;01mif\u001b[39;00m cancellation_context \u001b[38;5;129;01mis\u001b[39;00m \u001b[38;5;28;01mNone\u001b[39;00m:\n\u001b[0;32m-> 1688\u001b[0m   outputs \u001b[38;5;241m=\u001b[39m \u001b[43mexecute\u001b[49m\u001b[38;5;241;43m.\u001b[39;49m\u001b[43mexecute\u001b[49m\u001b[43m(\u001b[49m\n\u001b[1;32m   1689\u001b[0m \u001b[43m      \u001b[49m\u001b[43mname\u001b[49m\u001b[38;5;241;43m.\u001b[39;49m\u001b[43mdecode\u001b[49m\u001b[43m(\u001b[49m\u001b[38;5;124;43m\"\u001b[39;49m\u001b[38;5;124;43mutf-8\u001b[39;49m\u001b[38;5;124;43m\"\u001b[39;49m\u001b[43m)\u001b[49m\u001b[43m,\u001b[49m\n\u001b[1;32m   1690\u001b[0m \u001b[43m      \u001b[49m\u001b[43mnum_outputs\u001b[49m\u001b[38;5;241;43m=\u001b[39;49m\u001b[43mnum_outputs\u001b[49m\u001b[43m,\u001b[49m\n\u001b[1;32m   1691\u001b[0m \u001b[43m      \u001b[49m\u001b[43minputs\u001b[49m\u001b[38;5;241;43m=\u001b[39;49m\u001b[43mtensor_inputs\u001b[49m\u001b[43m,\u001b[49m\n\u001b[1;32m   1692\u001b[0m \u001b[43m      \u001b[49m\u001b[43mattrs\u001b[49m\u001b[38;5;241;43m=\u001b[39;49m\u001b[43mattrs\u001b[49m\u001b[43m,\u001b[49m\n\u001b[1;32m   1693\u001b[0m \u001b[43m      \u001b[49m\u001b[43mctx\u001b[49m\u001b[38;5;241;43m=\u001b[39;49m\u001b[38;5;28;43mself\u001b[39;49m\u001b[43m,\u001b[49m\n\u001b[1;32m   1694\u001b[0m \u001b[43m  \u001b[49m\u001b[43m)\u001b[49m\n\u001b[1;32m   1695\u001b[0m \u001b[38;5;28;01melse\u001b[39;00m:\n\u001b[1;32m   1696\u001b[0m   outputs \u001b[38;5;241m=\u001b[39m execute\u001b[38;5;241m.\u001b[39mexecute_with_cancellation(\n\u001b[1;32m   1697\u001b[0m       name\u001b[38;5;241m.\u001b[39mdecode(\u001b[38;5;124m\"\u001b[39m\u001b[38;5;124mutf-8\u001b[39m\u001b[38;5;124m\"\u001b[39m),\n\u001b[1;32m   1698\u001b[0m       num_outputs\u001b[38;5;241m=\u001b[39mnum_outputs,\n\u001b[0;32m   (...)\u001b[0m\n\u001b[1;32m   1702\u001b[0m       cancellation_manager\u001b[38;5;241m=\u001b[39mcancellation_context,\n\u001b[1;32m   1703\u001b[0m   )\n",
      "File \u001b[0;32m~/miniconda3/envs/env_name/lib/python3.10/site-packages/tensorflow/python/eager/execute.py:53\u001b[0m, in \u001b[0;36mquick_execute\u001b[0;34m(op_name, num_outputs, inputs, attrs, ctx, name)\u001b[0m\n\u001b[1;32m     51\u001b[0m \u001b[38;5;28;01mtry\u001b[39;00m:\n\u001b[1;32m     52\u001b[0m   ctx\u001b[38;5;241m.\u001b[39mensure_initialized()\n\u001b[0;32m---> 53\u001b[0m   tensors \u001b[38;5;241m=\u001b[39m \u001b[43mpywrap_tfe\u001b[49m\u001b[38;5;241;43m.\u001b[39;49m\u001b[43mTFE_Py_Execute\u001b[49m\u001b[43m(\u001b[49m\u001b[43mctx\u001b[49m\u001b[38;5;241;43m.\u001b[39;49m\u001b[43m_handle\u001b[49m\u001b[43m,\u001b[49m\u001b[43m \u001b[49m\u001b[43mdevice_name\u001b[49m\u001b[43m,\u001b[49m\u001b[43m \u001b[49m\u001b[43mop_name\u001b[49m\u001b[43m,\u001b[49m\n\u001b[1;32m     54\u001b[0m \u001b[43m                                      \u001b[49m\u001b[43minputs\u001b[49m\u001b[43m,\u001b[49m\u001b[43m \u001b[49m\u001b[43mattrs\u001b[49m\u001b[43m,\u001b[49m\u001b[43m \u001b[49m\u001b[43mnum_outputs\u001b[49m\u001b[43m)\u001b[49m\n\u001b[1;32m     55\u001b[0m \u001b[38;5;28;01mexcept\u001b[39;00m core\u001b[38;5;241m.\u001b[39m_NotOkStatusException \u001b[38;5;28;01mas\u001b[39;00m e:\n\u001b[1;32m     56\u001b[0m   \u001b[38;5;28;01mif\u001b[39;00m name \u001b[38;5;129;01mis\u001b[39;00m \u001b[38;5;129;01mnot\u001b[39;00m \u001b[38;5;28;01mNone\u001b[39;00m:\n",
      "\u001b[0;31mKeyboardInterrupt\u001b[0m: "
     ]
    }
   ],
   "source": [
    "# Resume training from epoch 16\n",
    "model.fit(\n",
    "    train_ds,\n",
    "    validation_data=val_ds,\n",
    "    epochs=50,\n",
    "    initial_epoch=26,\n",
    "    callbacks=callbacks_list\n",
    ")"
   ]
  },
  {
   "cell_type": "code",
   "execution_count": 40,
   "id": "1692dde0-f373-4292-9987-84740979036c",
   "metadata": {},
   "outputs": [
    {
     "data": {
      "image/png": "[encoded data removed]",
      "text/plain": [
       "<Figure size 1200x700 with 1 Axes>"
      ]
     },
     "metadata": {},
     "output_type": "display_data"
    }
   ],
   "source": [
    "import matplotlib.pyplot as plt\n",
    "\n",
    "# Données epochs 1 à 16\n",
    "losses_1_16 = [28.07, 7.15, 3.15, 1.77, 1.11, 0.76, 1.27, 0.52, 0.48, 0.68, 0.30, 0.12, 0.08, 0.05, 0.05, 0.06]\n",
    "val_losses_1_16 = [63.26, 48.07, 3.57, 2.43, 2.25, 3.74, 1.93, 2.02, 2.79, 2.56, 1.46, 1.41, 1.31, 1.34, 1.52, 1.44]\n",
    "epochs_1_16 = list(range(1, len(losses_1_16) + 1))\n",
    "\n",
    "# Données epochs 17 à 26\n",
    "losses_17_26 = [0.0529, 0.0426, 0.0367, 0.0325, 0.0293, 0.0288, 0.0288, 0.0267, 0.0255, 0.0254]\n",
    "val_losses_17_26 = [1.3055, 1.2996, 1.2935, 1.2941, 1.2907, 1.2919, 1.2972, 1.2892, 1.2990, 1.2932]\n",
    "epochs_17_26 = list(range(17, 27))\n",
    "\n",
    "# Données epochs 27 à 34\n",
    "losses_27_34 = [0.0263, 0.0241, 0.0239, 0.0216, 0.0218, 0.0203, 0.0199, 0.0175]\n",
    "val_losses_27_34 = [1.2834, 1.2786, 1.2847, 1.2923, 1.2957, 1.2939, 1.2925, 1.2996]\n",
    "epochs_27_34 = list(range(27, 35))\n",
    "\n",
    "# Fusionner toutes les listes pour courbe continue\n",
    "losses = losses_1_16 + losses_17_26 + losses_27_34\n",
    "val_losses = val_losses_1_16 + val_losses_17_26 + val_losses_27_34\n",
    "epochs = epochs_1_16 + epochs_17_26 + epochs_27_34\n",
    "\n",
    "plt.figure(figsize=(12,7))\n",
    "\n",
    "plt.plot(epochs, losses, 'b-o', label='Training Loss')\n",
    "plt.plot(epochs, val_losses, 'r-o', label='Validation Loss')\n",
    "\n",
    "plt.xlabel('Epoch')\n",
    "plt.ylabel('Loss')\n",
    "plt.title('Training and Validation Loss over Epochs 1 to 34')\n",
    "plt.legend()\n",
    "plt.grid(True)\n",
    "plt.show()"
   ]
  }
 ],
 "metadata": {
  "accelerator": "GPU",
  "colab": {
   "gpuType": "L4",
   "provenance": []
  },
  "kernelspec": {
   "display_name": "Python [conda env:base] *",
   "language": "python",
   "name": "conda-base-py"
  },
  "language_info": {
   "codemirror_mode": {
    "name": "ipython",
    "version": 3
   },
   "file_extension": ".py",
   "mimetype": "text/x-python",
   "name": "python",
   "nbconvert_exporter": "python",
   "pygments_lexer": "ipython3",
   "version": "3.9.21"
  }
 },
 "nbformat": 4,
 "nbformat_minor": 5
}
